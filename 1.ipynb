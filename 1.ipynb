{
 "cells": [
  {
   "cell_type": "markdown",
   "metadata": {},
   "source": [
    "TODO :\n",
    "- use py env"
   ]
  },
  {
   "cell_type": "markdown",
   "metadata": {},
   "source": [
    "سوال 1(پیدا کردن K بهینه\n",
    "در کد طبقه بندی ارقام فارسی، k بهینه در الگوریتم KNN را بیابید. برای این تمرین جست و جو در بازه 1 تا 10کفایت میکند.\n",
    "لطفا یک نمودار که محور x آن مقدار k و محور y آن دقت روی داده های test_X است را نیز رسم کرده و آن را تحلیل کنید. "
   ]
  }
 ],
 "metadata": {
  "language_info": {
   "name": "python"
  }
 },
 "nbformat": 4,
 "nbformat_minor": 2
}
