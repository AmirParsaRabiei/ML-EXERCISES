{
 "cells": [
  {
   "cell_type": "code",
   "execution_count": 23,
   "metadata": {},
   "outputs": [
    {
     "name": "stdout",
     "output_type": "stream",
     "text": [
      "50\n",
      "550.2\n",
      "22\n",
      "====================\n",
      "50\n",
      "550.2\n",
      "22\n",
      "Warning: 'test' is not a numeric value and was skipped.\n",
      "====================\n",
      "50\n",
      "550.2\n",
      "22\n",
      "********************\n"
     ]
    }
   ],
   "source": [
    "\"\"\"\n",
    "سوال 1(\n",
    "یک نوت بوک پایتونی درست کنید و در آن یک list دلخواه شامل اعداد float، int و همچنین str درست کنید.\n",
    "بر روی آن for بزنید و تمام عناصر عددی و بزگتر از 20 آن را چاپ کنید. \n",
    "\"\"\"\n",
    "\n",
    "#1stmethod | type-checking\n",
    "\n",
    "my_list = [5, 5.5, 4, 3, 50, 550.2, 22, 1, -1, 'test']\n",
    "\n",
    "for item in my_list:\n",
    "    if isinstance(item, (int, float)) and item > 20:\n",
    "        print(item)\n",
    "\n",
    "print('='*20)\n",
    "\n",
    "#2nd-method | try-except\n",
    "\n",
    "my_list = [5, 5.5, 4, 3, 50, 550.2, 22, 1, -1, 'test']\n",
    "\n",
    "for item in my_list:\n",
    "    try:\n",
    "        if item > 20:\n",
    "            print(item)\n",
    "    except TypeError:\n",
    "        print(f\"Warning: '{item}' is not a numeric value and was skipped.\")\n",
    "\n",
    "print('='*20)\n",
    "\n",
    "#3nd | Filter Out Non-Numeric Elements\n",
    "\n",
    "my_list = [5, 5.5, 4, 3, 50, 550.2, 22, 1, -1, 'test']\n",
    "\n",
    "numeric_list = list(filter(lambda x: isinstance(x, (int, float)), my_list))\n",
    "\n",
    "for item in numeric_list:\n",
    "    if item > 20:\n",
    "        print(item)\n",
    "\n",
    "print('*'*20)"
   ]
  },
  {
   "cell_type": "code",
   "execution_count": null,
   "metadata": {},
   "outputs": [],
   "source": [
    "\"\"\"\n",
    "سوال 2(\n",
    "یک دیکشنری درست کنید.\n",
    "در یک for از کاربر اسم و نمره بگیری د و این دیکشنر ی را مقداردهی کنید، طوری که کلیدها نام و مقادیر معدل باشد.\n",
    "در آخر معدل این افراد را چاپ کنید\n",
    "\"\"\"\n",
    "\n",
    "dictionary = {}\n",
    "\n"
   ]
  }
 ],
 "metadata": {
  "kernelspec": {
   "display_name": "Python 3",
   "language": "python",
   "name": "python3"
  },
  "language_info": {
   "codemirror_mode": {
    "name": "ipython",
    "version": 3
   },
   "file_extension": ".py",
   "mimetype": "text/x-python",
   "name": "python",
   "nbconvert_exporter": "python",
   "pygments_lexer": "ipython3",
   "version": "3.12.2"
  }
 },
 "nbformat": 4,
 "nbformat_minor": 2
}
