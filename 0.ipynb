{
 "cells": [
  {
   "cell_type": "code",
   "execution_count": 1,
   "metadata": {},
   "outputs": [
    {
     "name": "stdout",
     "output_type": "stream",
     "text": [
      "50\n",
      "550.2\n",
      "22\n",
      "====================\n",
      "50\n",
      "550.2\n",
      "22\n",
      "Warning: 'test' is not a numeric value and was skipped.\n",
      "====================\n",
      "50\n",
      "550.2\n",
      "22\n",
      "********************\n"
     ]
    }
   ],
   "source": [
    "\"\"\"\n",
    "سوال 1(\n",
    "یک نوت بوک پایتونی درست کنید و در آن یک list دلخواه شامل اعداد float، int و همچنین str درست کنید.\n",
    "بر روی آن for بزنید و تمام عناصر عددی و بزگتر از 20 آن را چاپ کنید. \n",
    "\"\"\"\n",
    "\n",
    "#1stmethod | type-checking\n",
    "\n",
    "my_list = [5, 5.5, 4, 3, 50, 550.2, 22, 1, -1, 'test']\n",
    "\n",
    "for item in my_list:\n",
    "    if isinstance(item, (int, float)) and item > 20:\n",
    "        print(item)\n",
    "\n",
    "print('='*20)\n",
    "\n",
    "#2nd-method | try-except\n",
    "\n",
    "my_list = [5, 5.5, 4, 3, 50, 550.2, 22, 1, -1, 'test']\n",
    "\n",
    "for item in my_list:\n",
    "    try:\n",
    "        if item > 20:\n",
    "            print(item)\n",
    "    except TypeError:\n",
    "        print(f\"Warning: '{item}' is not a numeric value and was skipped.\")\n",
    "\n",
    "print('='*20)\n",
    "\n",
    "#3nd | Filter Out Non-Numeric Elements\n",
    "\n",
    "my_list = [5, 5.5, 4, 3, 50, 550.2, 22, 1, -1, 'test']\n",
    "\n",
    "numeric_list = list(filter(lambda x: isinstance(x, (int, float)), my_list))\n",
    "\n",
    "for item in numeric_list:\n",
    "    if item > 20:\n",
    "        print(item)\n",
    "\n",
    "print('*'*20)"
   ]
  },
  {
   "cell_type": "code",
   "execution_count": 2,
   "metadata": {},
   "outputs": [
    {
     "name": "stdout",
     "output_type": "stream",
     "text": [
      "Scores:\n",
      "amir: 12\n",
      "parsa: 20\n"
     ]
    }
   ],
   "source": [
    "\"\"\"\n",
    "سوال 2(\n",
    "یک دیکشنری درست کنید.\n",
    "در یک for از کاربر اسم و نمره بگیری د و این دیکشنر ی را مقداردهی کنید، طوری که کلیدها نام و مقادیر معدل باشد.\n",
    "در آخر معدل این افراد را چاپ کنید\n",
    "\"\"\"\n",
    "\n",
    "scores = {}\n",
    "\n",
    "while True:\n",
    "    name = input(\"Enter the name (or press Enter to finish): \")\n",
    "    if name == \"\":\n",
    "        break\n",
    "    \n",
    "    score = int(input(f\"Enter the score for {name}: \"))\n",
    "    scores[name] = score\n",
    "\n",
    "print(\"Scores:\")\n",
    "for name, score in scores.items():\n",
    "    print(f\"{name}: {score}\")"
   ]
  },
  {
   "cell_type": "code",
   "execution_count": 3,
   "metadata": {},
   "outputs": [
    {
     "name": "stdout",
     "output_type": "stream",
     "text": [
      "My list:\n",
      "[3 0 4 1 3 1 4 3 2 0]\n",
      "Number of non-duplicates:\n",
      "5\n",
      "My list:\n",
      "[2 3 3 2 4 1 3 3 2 3]\n",
      "Number of non-duplicates:\n",
      "4\n"
     ]
    }
   ],
   "source": [
    "\"\"\"\n",
    "سوال 3(\n",
    "یک لیست دلخواه بسازید و تعداد غی ر تکرار ی های آن را بشمارید.\n",
    "راهنمایی: ابتدا آن را تبدیل به set کنید.\n",
    "\"\"\"\n",
    "# method 1\n",
    "import numpy as np\n",
    "\n",
    "list = np.random.randint(0,5, size=(10))\n",
    "# delete duplicates\n",
    "num_non_duplicates = len(set(list))\n",
    "\n",
    "print(f'My list:\\n{list}')\n",
    "print(f'Number of non-duplicates:\\n{num_non_duplicates}')\n",
    "\n",
    "\n",
    "# method 2\n",
    "import numpy as np\n",
    "\n",
    "list = np.random.randint(0,5,size=(10))\n",
    "print(f'My list:\\n{list}')\n",
    "num_non_duplicates = len(np.unique(list))\n",
    "print(f'Number of non-duplicates:\\n{num_non_duplicates}')\n",
    "\n",
    "set_list = set(list)\n",
    "\n"
   ]
  },
  {
   "cell_type": "code",
   "execution_count": 4,
   "metadata": {},
   "outputs": [
    {
     "name": "stdout",
     "output_type": "stream",
     "text": [
      "[ 8  9  8 11 12]\n",
      "[40 45 40 55 60]\n",
      "48.0\n"
     ]
    }
   ],
   "source": [
    "\"\"\"\n",
    "سوال 4(\n",
    " یک نوت بوک پایتونی ایجاد کرده و دو آرایه از نوع numpy به نام ها ی a و b با طول یکسان بسازید.\n",
    "الف ( حال حاصل جمع بردار ی آن ها را در متغیر c ریخته و در نهایت چاپ کنید.\n",
    "ب( آرایه c را در عدد ثابت 5 ضرب کرده و نتیجه را چاپ کنید.\n",
    "ج( میانگین اعدد آرایه c را چاپ کنید\n",
    "\"\"\"\n",
    "import numpy as np\n",
    "\n",
    "a = np.array(np.random.randint(0, 11, size=5))\n",
    "b = np.array(np.random.randint(0, 11, size=5))\n",
    "\n",
    "c = a + b\n",
    "print(c)\n",
    "print(c*5)\n",
    "print((c*5).mean())"
   ]
  },
  {
   "cell_type": "code",
   "execution_count": 5,
   "metadata": {},
   "outputs": [
    {
     "name": "stdout",
     "output_type": "stream",
     "text": [
      "[[5 5]\n",
      " [5 5]]\n"
     ]
    }
   ],
   "source": [
    "\"\"\"\n",
    "سوال 5(\n",
    "یک تابع به نام five_np در پایتون تعریف کنید که ورودی اش یک عدد باشد و خروجی اش یک ماتریس پر از 5 باشد.\n",
    "برا ی مثال با فراخوانی five_np(2 )یک ماتریس نامپای 2 در 2 که در همه خانه های آن 5 هست برگرداند.\n",
    "\"\"\"\n",
    "\n",
    "import numpy as np\n",
    "\n",
    "def five_np(num):\n",
    "    return np.full((num, num), 5)\n",
    "\n",
    "print(five_np(2))"
   ]
  },
  {
   "cell_type": "code",
   "execution_count": 6,
   "metadata": {},
   "outputs": [
    {
     "name": "stdout",
     "output_type": "stream",
     "text": [
      "[0.54372747 0.10344875 0.60598412 ... 0.32781391 0.90240595 0.08226681]\n",
      "0.9999988821505873\n",
      "0.9999988821505873\n"
     ]
    }
   ],
   "source": [
    "\"\"\"\n",
    "سوال 6(\n",
    " یک وکتور)آرایه یک بعدی( پایتون به صورت رندم و تصادفی با طول 500.000 بسازید. \n",
    " و با پیاده ساز ی به دو روش زیر زمان اجرا را مقایسه و چاپ کنید\n",
    " الف( یک تابع پایتونی بنویسید که با for زدن روی این آرایه بزرگترین عدد را برگرداند.\n",
    "ب( با توابع خود numpy که میدانی م پیاده ساز ی vectorize انجام داده اند ماکزیمم این لیست را حساب کنید.\n",
    "\"\"\"\n",
    "import numpy as np\n",
    "\n",
    "arr = np.random.rand(500000)\n",
    "print(arr)\n",
    "\n",
    "# A\n",
    "def max_num(arr):\n",
    "    max_num = arr[0]\n",
    "    for num in arr:\n",
    "        if num > max_num:\n",
    "            max_num = num\n",
    "    return max_num\n",
    "print(max_num(arr))\n",
    "\n",
    "# B\n",
    "print(np.max(arr))\n"
   ]
  },
  {
   "cell_type": "code",
   "execution_count": 16,
   "metadata": {},
   "outputs": [
    {
     "name": "stdout",
     "output_type": "stream",
     "text": [
      "Images saved in Q7_image\n",
      "Original image path: Q7_image/original_image.png\n",
      "Modified image path: Q7_image/modified_image.png\n"
     ]
    }
   ],
   "source": [
    "\"\"\"\n",
    "سوال 7(\n",
    " یک عکس دلخواه لود کنید، تمام خانه های آن را به عالوه 10 کنید و ذخیره کنید. عکس نهایی و عکس اولیه را در پوشه تمرین بزارید و\n",
    "ارسال کنید\n",
    "\"\"\"\n",
    "from PIL import Image\n",
    "import numpy as np\n",
    "import os\n",
    "\n",
    "def load_and_modify_image(image_path, output_folder):\n",
    "    # Load the image\n",
    "    img = Image.open(image_path)\n",
    "    img = img.convert('RGB')  # Ensure image is in RGB format\n",
    "\n",
    "    # Convert image to numpy array\n",
    "    data = np.array(img)\n",
    "\n",
    "    # Add 10 to each pixel. Since pixel values must be in [0,255], we clamp them using np.clip\n",
    "    modified_data = np.clip(data + 10, 0, 255)\n",
    "    \n",
    "    # Convert numpy array back to image\n",
    "    modified_img = Image.fromarray(modified_data.astype('uint8'), 'RGB')\n",
    "\n",
    "    # Define file paths\n",
    "    original_image_path = os.path.join(output_folder, 'original_image.png')\n",
    "    modified_image_path = os.path.join(output_folder, 'modified_image.png')\n",
    "\n",
    "    # Save the original image\n",
    "    img.save(original_image_path)\n",
    "\n",
    "    # Save the modified image\n",
    "    modified_img.save(modified_image_path)\n",
    "\n",
    "    print(f\"Images saved in {output_folder}\")\n",
    "    print(\"Original image path:\", original_image_path)\n",
    "    print(\"Modified image path:\", modified_image_path)\n",
    "\n",
    "# Specify the image path and output folder\n",
    "image_path = 'tmpcxba3tn4-min.png'  # Update this path to your image's path\n",
    "output_folder = 'Q7_image'  # Define or update output directory\n",
    "\n",
    "# Create output directory if it doesn't exist\n",
    "if not os.path.exists(output_folder):\n",
    "    os.makedirs(output_folder)\n",
    "\n",
    "# Call the function\n",
    "load_and_modify_image(image_path, output_folder)"
   ]
  },
  {
   "cell_type": "code",
   "execution_count": 2,
   "metadata": {},
   "outputs": [
    {
     "name": "stdout",
     "output_type": "stream",
     "text": [
      "{'B', 'n', ',', '–', 'i', 'g', 'v', 'V', 'z', 'E', 'p', 'q', 'x', 't', 'm', '\\n', 'u', '.', 'w', 'T', 'H', ' ', 'k', 's', 'l', 'a', 'o', 'I', 'r', 'd', 'h', 'f', 'y', 'c', 'L', 'A', 'b', ':', '-', 'e'}\n",
      "Number of unique characters: 40\n"
     ]
    }
   ],
   "source": [
    "\"\"\"\n",
    "سوال 8(\n",
    "یک برنامه پایتونی بنویسید که تعداد کاراکترها ی منحصر به فرد استفاده شده در یک فایل txt را برگرداند.\n",
    "برا ی این کار کافی است کل فایل txt را بخوانی د. در یک متغیر بریزید\n",
    "بعد تبدیل به set کنید\n",
    "در نهایت طول set را چاپ کنید\n",
    "\"\"\"\n",
    "with open('sample.txt', 'r') as file:\n",
    "    text = file.read()\n",
    "\n",
    "unique_char = set(text)\n",
    "print(unique_char)\n",
    "\n",
    "print('Number of unique characters:', len(unique_char))\n"
   ]
  },
  {
   "cell_type": "code",
   "execution_count": 9,
   "metadata": {},
   "outputs": [
    {
     "data": {
      "text/plain": [
       "'\\nسوال 9(\\nتصویر یک چهره دلخواه را در پایتون لود کرده و فقط ناحیه چهره آن را با پایتون نمایش دهید )با numpy ناحیه را مشخص کنید، به صورت\\ncode-hard یا همان وارد کردن دستی اعداد در کد.(\\n'"
      ]
     },
     "execution_count": 9,
     "metadata": {},
     "output_type": "execute_result"
    }
   ],
   "source": [
    "\"\"\"\n",
    "سوال 9(\n",
    "تصویر یک چهره دلخواه را در پایتون لود کرده و فقط ناحیه چهره آن را با پایتون نمایش دهید )با numpy ناحیه را مشخص کنید، به صورت\n",
    "code-hard یا همان وارد کردن دستی اعداد در کد.(\n",
    "\"\"\"\n",
    "\n"
   ]
  }
 ],
 "metadata": {
  "kernelspec": {
   "display_name": "Python 3",
   "language": "python",
   "name": "python3"
  },
  "language_info": {
   "codemirror_mode": {
    "name": "ipython",
    "version": 3
   },
   "file_extension": ".py",
   "mimetype": "text/x-python",
   "name": "python",
   "nbconvert_exporter": "python",
   "pygments_lexer": "ipython3",
   "version": "3.12.2"
  }
 },
 "nbformat": 4,
 "nbformat_minor": 2
}
