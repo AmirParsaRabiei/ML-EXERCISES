{
 "cells": [
  {
   "cell_type": "code",
   "execution_count": 27,
   "metadata": {},
   "outputs": [
    {
     "name": "stdout",
     "output_type": "stream",
     "text": [
      "Mean Squared Error: 3.3881317890172014e-21\n",
      "Coefficients: [1.99501247e+02 1.42108547e-14 9.97506234e+00]\n",
      "Intercept: 648.3790523692151\n"
     ]
    }
   ],
   "source": [
    "# Regression Examples\n",
    "\n",
    "import numpy as np\n",
    "import pandas as pd\n",
    "from sklearn.model_selection import train_test_split\n",
    "from sklearn.linear_model import LinearRegression\n",
    "from sklearn.metrics import mean_squared_error\n",
    "\n",
    "# Sample dataset\n",
    "data = {\n",
    "    'Size': [1500, 1600, 1700, 1800, 1900],\n",
    "    'Bedrooms': [3, 3, 4, 4, 5],\n",
    "    'Age': [10, 15, 20, 25, 30],\n",
    "    'Price': [300000, 320000, 340000, 360000, 380000]\n",
    "}\n",
    "\n",
    "# Create DataFrame\n",
    "df = pd.DataFrame(data)\n",
    "\n",
    "# Features and target variable\n",
    "X = df[['Size', 'Bedrooms', 'Age']]\n",
    "y = df['Price']\n",
    "\n",
    "# Split the dataset into training and testing sets\n",
    "X_train, X_test, y_train, y_test = train_test_split(X, y, test_size=0.2, random_state=42)\n",
    "\n",
    "# Create and train the model\n",
    "model = LinearRegression()\n",
    "model.fit(X_train, y_train)\n",
    "\n",
    "# Make predictions\n",
    "y_pred = model.predict(X_test)\n",
    "\n",
    "# Evaluate the model\n",
    "mse = mean_squared_error(y_test, y_pred)\n",
    "print(f\"Mean Squared Error: {mse}\")\n",
    "\n",
    "# Display coefficients\n",
    "print(f\"Coefficients: {model.coef_}\")\n",
    "print(f\"Intercept: {model.intercept_}\")\n"
   ]
  },
  {
   "cell_type": "code",
   "execution_count": 25,
   "metadata": {},
   "outputs": [
    {
     "name": "stdout",
     "output_type": "stream",
     "text": [
      "Accuracy: 0.0\n",
      "Confusion Matrix:\n",
      "[[0 1]\n",
      " [0 0]]\n"
     ]
    }
   ],
   "source": [
    "# Classification example\n",
    "import numpy as np\n",
    "import pandas as pd\n",
    "from sklearn.model_selection import train_test_split\n",
    "from sklearn.linear_model import LogisticRegression\n",
    "from sklearn.metrics import accuracy_score, confusion_matrix\n",
    "\n",
    "# Sample dataset\n",
    "data = {\n",
    "    'Number of Words': [100, 50, 200, 300, 150],\n",
    "    'Number of Links': [3, 1, 5, 10, 2],\n",
    "    'Contains Free': [1, 0, 1, 1, 0],  # 1 for Yes, 0 for No\n",
    "    'Spam': [1, 0, 1, 1, 0]\n",
    "}\n",
    "\n",
    "# Create DataFrame\n",
    "df = pd.DataFrame(data)\n",
    "\n",
    "# Features and target variable\n",
    "X = df[['Number of Words', 'Number of Links', 'Contains Free']]\n",
    "y = df['Spam']\n",
    "\n",
    "# Split the dataset into training and testing sets\n",
    "X_train, X_test, y_train, y_test = train_test_split(X, y, test_size=0.2, random_state=42)\n",
    "\n",
    "# Create and train the model\n",
    "model = LogisticRegression()\n",
    "model.fit(X_train, y_train)\n",
    "\n",
    "# Make predictions\n",
    "y_pred = model.predict(X_test)\n",
    "\n",
    "# Evaluate the model\n",
    "accuracy = accuracy_score(y_test, y_pred)\n",
    "conf_matrix = confusion_matrix(y_test, y_pred)\n",
    "\n",
    "print(f\"Accuracy: {accuracy}\")\n",
    "print(\"Confusion Matrix:\")\n",
    "print(conf_matrix)\n"
   ]
  },
  {
   "cell_type": "code",
   "execution_count": 28,
   "metadata": {},
   "outputs": [
    {
     "name": "stdout",
     "output_type": "stream",
     "text": [
      "[[0.69646919 0.28613933 0.22685145 0.55131477 0.71946897]\n",
      " [0.42310646 0.9807642  0.68482974 0.4809319  0.39211752]\n",
      " [0.34317802 0.72904971 0.43857224 0.0596779  0.39804426]]\n",
      "========================================\n",
      "[0.78288923 0.54833822 0.01058645 0.67631547 0.67534456]\n",
      "========================================\n",
      "[0.42759106 0.57192585 0.25618607 0.48483994 0.29216425]\n"
     ]
    }
   ],
   "source": [
    "import numpy as np\n",
    "\n",
    "# Setting a random seed for reproducibility\n",
    "rnd = np.random.RandomState(seed=123)\n",
    "\n",
    "# Generating a random array\n",
    "X = rnd.uniform(low=0.0, high=1.0, size=(3, 5))  # a 3 x 5 array\n",
    "print(X)\n",
    "\n",
    "print('='*40)\n",
    "\n",
    "rnd1 = np.random.RandomState()  # No seed set\n",
    "random_numbers1 = rnd1.uniform(low=0.0, high=1.0, size=5)\n",
    "print(random_numbers1)\n",
    "\n",
    "print('='*40)\n",
    "\n",
    "rnd2 = np.random.RandomState()  # No seed set again\n",
    "random_numbers2 = rnd2.uniform(low=0.0, high=1.0, size=5)\n",
    "print(random_numbers2)\n"
   ]
  },
  {
   "cell_type": "code",
   "execution_count": 26,
   "metadata": {},
   "outputs": [
    {
     "name": "stdout",
     "output_type": "stream",
     "text": [
      "[ 0.  3.  6.  9. 12.]\n",
      "[[ 0.]\n",
      " [ 3.]\n",
      " [ 6.]\n",
      " [ 9.]\n",
      " [12.]]\n"
     ]
    }
   ],
   "source": [
    "import numpy as np\n",
    "y = np.linspace(0, 12, 5)\n",
    "print(y)\n",
    "\n",
    "# Turning the row vector into a column vector\n",
    "print(y[:, np.newaxis])"
   ]
  },
  {
   "cell_type": "code",
   "execution_count": 30,
   "metadata": {},
   "outputs": [
    {
     "name": "stdout",
     "output_type": "stream",
     "text": [
      "(3, 5)\n",
      "[[0.69646919 0.28613933 0.22685145]\n",
      " [0.55131477 0.71946897 0.42310646]\n",
      " [0.9807642  0.68482974 0.4809319 ]\n",
      " [0.39211752 0.34317802 0.72904971]\n",
      " [0.43857224 0.0596779  0.39804426]]\n"
     ]
    }
   ],
   "source": [
    "import numpy as np\n",
    "# Getting the shape or reshaping an array\n",
    "# Generating a random array\n",
    "rnd = np.random.RandomState(seed=123)\n",
    "X = rnd.uniform(low=0.0, high=1.0, size=(3, 5))  # a 3 x 5 array\n",
    "print(X.shape)\n",
    "print(X.reshape(5, 3))"
   ]
  },
  {
   "cell_type": "code",
   "execution_count": 29,
   "metadata": {},
   "outputs": [
    {
     "name": "stdout",
     "output_type": "stream",
     "text": [
      "[3 1 0]\n"
     ]
    },
    {
     "data": {
      "text/plain": [
       "array([[0.55131477, 0.28613933, 0.69646919],\n",
       "       [0.4809319 , 0.9807642 , 0.42310646],\n",
       "       [0.0596779 , 0.72904971, 0.34317802]])"
      ]
     },
     "execution_count": 29,
     "metadata": {},
     "output_type": "execute_result"
    }
   ],
   "source": [
    "# Indexing by an array of integers (fancy indexing)\n",
    "indices = np.array([3, 1, 0])\n",
    "print(indices)\n",
    "X[:, indices]"
   ]
  },
  {
   "cell_type": "code",
   "execution_count": null,
   "metadata": {},
   "outputs": [
    {
     "name": "stdout",
     "output_type": "stream",
     "text": [
      "lorem10orem 10orem 1\n"
     ]
    }
   ],
   "source": [
    "a = 'lorem10orem 10orem 10orem 10orem 10orem 10orem 10orem 10orem 10orem 10orem'\n",
    "print(a[:20])"
   ]
  },
  {
   "cell_type": "code",
   "execution_count": 31,
   "metadata": {},
   "outputs": [
    {
     "name": "stdout",
     "output_type": "stream",
     "text": [
      "0    Alice\n",
      "1      Bob\n",
      "2    Carol\n",
      "Name: Name, dtype: object\n",
      "========================================\n",
      "    Name  Age\n",
      "0  Alice   30\n",
      "1    Bob   25\n",
      "2  Carol   28\n",
      "========================================\n",
      "Name       Alice\n",
      "Age           30\n",
      "Country      USA\n",
      "Name: 0, dtype: object\n",
      "========================================\n",
      "    Name  Age Country\n",
      "1    Bob   25  Canada\n",
      "2  Carol   28      UK\n",
      "========================================\n",
      "Alice\n",
      "========================================\n",
      "25\n"
     ]
    }
   ],
   "source": [
    "import pandas as pd\n",
    "\n",
    "# Create a DataFrame\n",
    "data = {\n",
    "    'Name': ['Alice', 'Bob', 'Carol'],\n",
    "    'Age': [30, 25, 28],\n",
    "    'Country': ['USA', 'Canada', 'UK']\n",
    "}\n",
    "df = pd.DataFrame(data)\n",
    "\n",
    "# Accessing columns\n",
    "print(df['Name'])  # Prints the 'Name' column\n",
    "\n",
    "print('='*40)\n",
    "\n",
    "print(df[['Name', 'Age']])  # Prints the 'Name' and 'Age' columns\n",
    "\n",
    "print('='*40)\n",
    "\n",
    "# Accessing rows by index\n",
    "print(df.iloc[0])  # Prints the first row (Alice's information)\n",
    "\n",
    "print('='*40)\n",
    "\n",
    "print(df.iloc[1:3])  # Prints the second and third rows (Bob's and Carol's information)\n",
    "\n",
    "print('='*40)\n",
    "\n",
    "# Accessing specific elements\n",
    "print(df.at[0, 'Name'])  # Prints 'Alice'\n",
    "\n",
    "print('='*40)\n",
    "\n",
    "print(df.loc[1, 'Age'])  # Prints 25 (Bob's age)\n"
   ]
  },
  {
   "cell_type": "code",
   "execution_count": 44,
   "metadata": {},
   "outputs": [
    {
     "name": "stdout",
     "output_type": "stream",
     "text": [
      "Empty DataFrame\n",
      "Columns: [Name, Age, Country]\n",
      "Index: []\n",
      "========================================\n",
      "Name       Alice\n",
      "Age           30\n",
      "Country      USA\n",
      "Name: 0, dtype: object\n",
      "========================================\n",
      "    Name  Age Country\n",
      "0  Alice   30     USA\n",
      "1    Bob   25  Canada\n"
     ]
    }
   ],
   "source": [
    "print(df[0:0]) # in faghat dare row haro slice mikone \n",
    "print('='*40)\n",
    "\"\"\"\n",
    "df.loc is used for label-based indexing. It allows you to access rows and columns by their labels (names).\n",
    "\"\"\"\n",
    "\n",
    "print(df.loc[0])  # Prints the first row (Alice's information)\n",
    "\n",
    "print('='*40)\n",
    "\n",
    "print(df.loc[0:1]) # Prints the first and second rows (Alice's and Bob's information)"
   ]
  }
 ],
 "metadata": {
  "kernelspec": {
   "display_name": "Python 3",
   "language": "python",
   "name": "python3"
  },
  "language_info": {
   "codemirror_mode": {
    "name": "ipython",
    "version": 3
   },
   "file_extension": ".py",
   "mimetype": "text/x-python",
   "name": "python",
   "nbconvert_exporter": "python",
   "pygments_lexer": "ipython3",
   "version": "3.12.4"
  }
 },
 "nbformat": 4,
 "nbformat_minor": 2
}
