{
 "cells": [
  {
   "cell_type": "code",
   "execution_count": 56,
   "metadata": {},
   "outputs": [
    {
     "name": "stdout",
     "output_type": "stream",
     "text": [
      "Mean Squared Error: 3.3881317890172014e-21\n",
      "Coefficients: [1.99501247e+02 1.42108547e-14 9.97506234e+00]\n",
      "Intercept: 648.3790523692151\n"
     ]
    }
   ],
   "source": [
    "# Regression Examples\n",
    "\n",
    "import numpy as np\n",
    "import pandas as pd\n",
    "from sklearn.model_selection import train_test_split\n",
    "from sklearn.linear_model import LinearRegression\n",
    "from sklearn.metrics import mean_squared_error\n",
    "\n",
    "# Sample dataset\n",
    "data = {\n",
    "    'Size': [1500, 1600, 1700, 1800, 1900],\n",
    "    'Bedrooms': [3, 3, 4, 4, 5],\n",
    "    'Age': [10, 15, 20, 25, 30],\n",
    "    'Price': [300000, 320000, 340000, 360000, 380000]\n",
    "}\n",
    "\n",
    "# Create DataFrame\n",
    "df = pd.DataFrame(data)\n",
    "\n",
    "# Features and target variable\n",
    "X = df[['Size', 'Bedrooms', 'Age']]\n",
    "y = df['Price']\n",
    "\n",
    "# Split the dataset into training and testing sets\n",
    "X_train, X_test, y_train, y_test = train_test_split(X, y, test_size=0.2, random_state=42)\n",
    "\n",
    "# Create and train the model\n",
    "model = LinearRegression()\n",
    "model.fit(X_train, y_train)\n",
    "\n",
    "# Make predictions\n",
    "y_pred = model.predict(X_test)\n",
    "\n",
    "# Evaluate the model\n",
    "mse = mean_squared_error(y_test, y_pred)\n",
    "print(f\"Mean Squared Error: {mse}\")\n",
    "\n",
    "# Display coefficients\n",
    "print(f\"Coefficients: {model.coef_}\")\n",
    "print(f\"Intercept: {model.intercept_}\")\n"
   ]
  },
  {
   "cell_type": "code",
   "execution_count": 54,
   "metadata": {},
   "outputs": [
    {
     "name": "stdout",
     "output_type": "stream",
     "text": [
      "Accuracy: 0.0\n",
      "Confusion Matrix:\n",
      "[[0 1]\n",
      " [0 0]]\n"
     ]
    }
   ],
   "source": [
    "# Classification example\n",
    "import numpy as np\n",
    "import pandas as pd\n",
    "from sklearn.model_selection import train_test_split\n",
    "from sklearn.linear_model import LogisticRegression\n",
    "from sklearn.metrics import accuracy_score, confusion_matrix\n",
    "\n",
    "# Sample dataset\n",
    "data = {\n",
    "    'Number of Words': [100, 50, 200, 300, 150],\n",
    "    'Number of Links': [3, 1, 5, 10, 2],\n",
    "    'Contains Free': [1, 0, 1, 1, 0],  # 1 for Yes, 0 for No\n",
    "    'Spam': [1, 0, 1, 1, 0]\n",
    "}\n",
    "\n",
    "# Create DataFrame\n",
    "df = pd.DataFrame(data)\n",
    "\n",
    "# Features and target variable\n",
    "X = df[['Number of Words', 'Number of Links', 'Contains Free']]\n",
    "y = df['Spam']\n",
    "\n",
    "# Split the dataset into training and testing sets\n",
    "X_train, X_test, y_train, y_test = train_test_split(X, y, test_size=0.2, random_state=42)\n",
    "\n",
    "# Create and train the model\n",
    "model = LogisticRegression()\n",
    "model.fit(X_train, y_train)\n",
    "\n",
    "# Make predictions\n",
    "y_pred = model.predict(X_test)\n",
    "\n",
    "# Evaluate the model\n",
    "accuracy = accuracy_score(y_test, y_pred)\n",
    "conf_matrix = confusion_matrix(y_test, y_pred)\n",
    "\n",
    "print(f\"Accuracy: {accuracy}\")\n",
    "print(\"Confusion Matrix:\")\n",
    "print(conf_matrix)\n"
   ]
  },
  {
   "cell_type": "code",
   "execution_count": 55,
   "metadata": {},
   "outputs": [
    {
     "name": "stdout",
     "output_type": "stream",
     "text": [
      "[[0.69646919 0.28613933 0.22685145 0.55131477 0.71946897]\n",
      " [0.42310646 0.9807642  0.68482974 0.4809319  0.39211752]\n",
      " [0.34317802 0.72904971 0.43857224 0.0596779  0.39804426]]\n",
      "========================================\n",
      "[0.58129264 0.77532729 0.7723126  0.91155981 0.52103339]\n",
      "========================================\n",
      "[0.97883085 0.0181277  0.83094938 0.40239485 0.0247753 ]\n"
     ]
    }
   ],
   "source": [
    "import numpy as np\n",
    "\n",
    "# Setting a random seed for reproducibility\n",
    "rnd = np.random.RandomState(seed=123)\n",
    "\n",
    "# Generating a random array\n",
    "X = rnd.uniform(low=0.0, high=1.0, size=(3, 5))  # a 3 x 5 array\n",
    "print(X)\n",
    "\n",
    "print('='*40)\n",
    "\n",
    "rnd1 = np.random.RandomState()  # No seed set\n",
    "random_numbers1 = rnd1.uniform(low=0.0, high=1.0, size=5)\n",
    "print(random_numbers1)\n",
    "\n",
    "print('='*40)\n",
    "\n",
    "rnd2 = np.random.RandomState()  # No seed set again\n",
    "random_numbers2 = rnd2.uniform(low=0.0, high=1.0, size=5)\n",
    "print(random_numbers2)\n"
   ]
  },
  {
   "cell_type": "code",
   "execution_count": 53,
   "metadata": {},
   "outputs": [
    {
     "name": "stdout",
     "output_type": "stream",
     "text": [
      "[ 0.  3.  6.  9. 12.]\n",
      "[[ 0.]\n",
      " [ 3.]\n",
      " [ 6.]\n",
      " [ 9.]\n",
      " [12.]]\n"
     ]
    }
   ],
   "source": [
    "import numpy as np\n",
    "y = np.linspace(0, 12, 5)\n",
    "print(y)\n",
    "\n",
    "# Turning the row vector into a column vector\n",
    "print(y[:, np.newaxis])"
   ]
  },
  {
   "cell_type": "code",
   "execution_count": 58,
   "metadata": {},
   "outputs": [
    {
     "name": "stdout",
     "output_type": "stream",
     "text": [
      "(3, 5)\n",
      "[[0.69646919 0.28613933 0.22685145]\n",
      " [0.55131477 0.71946897 0.42310646]\n",
      " [0.9807642  0.68482974 0.4809319 ]\n",
      " [0.39211752 0.34317802 0.72904971]\n",
      " [0.43857224 0.0596779  0.39804426]]\n"
     ]
    }
   ],
   "source": [
    "import numpy as np\n",
    "# Getting the shape or reshaping an array\n",
    "# Generating a random array\n",
    "rnd = np.random.RandomState(seed=123)\n",
    "X = rnd.uniform(low=0.0, high=1.0, size=(3, 5))  # a 3 x 5 array\n",
    "print(X.shape)\n",
    "print(X.reshape(5, 3))"
   ]
  },
  {
   "cell_type": "code",
   "execution_count": 61,
   "metadata": {},
   "outputs": [
    {
     "name": "stdout",
     "output_type": "stream",
     "text": [
      "[3 1 0]\n"
     ]
    },
    {
     "data": {
      "text/plain": [
       "array([[0.55131477, 0.28613933, 0.69646919],\n",
       "       [0.4809319 , 0.9807642 , 0.42310646],\n",
       "       [0.0596779 , 0.72904971, 0.34317802]])"
      ]
     },
     "execution_count": 61,
     "metadata": {},
     "output_type": "execute_result"
    }
   ],
   "source": [
    "# Indexing by an array of integers (fancy indexing)\n",
    "indices = np.array([3, 1, 0])\n",
    "print(indices)\n",
    "X[:, indices]"
   ]
  },
  {
   "cell_type": "code",
   "execution_count": 59,
   "metadata": {},
   "outputs": [
    {
     "name": "stdout",
     "output_type": "stream",
     "text": [
      "lorem10orem 10orem 1\n"
     ]
    }
   ],
   "source": [
    "a = 'lorem10orem 10orem 10orem 10orem 10orem 10orem 10orem 10orem 10orem 10orem'\n",
    "print(a[:20])"
   ]
  },
  {
   "cell_type": "code",
   "execution_count": 57,
   "metadata": {},
   "outputs": [
    {
     "name": "stdout",
     "output_type": "stream",
     "text": [
      "0    Alice\n",
      "1      Bob\n",
      "2    Carol\n",
      "Name: Name, dtype: object\n",
      "========================================\n",
      "    Name  Age\n",
      "0  Alice   30\n",
      "1    Bob   25\n",
      "2  Carol   28\n",
      "========================================\n",
      "Name       Alice\n",
      "Age           30\n",
      "Country      USA\n",
      "Name: 0, dtype: object\n",
      "========================================\n",
      "    Name  Age Country\n",
      "1    Bob   25  Canada\n",
      "2  Carol   28      UK\n",
      "========================================\n",
      "Alice\n",
      "========================================\n",
      "25\n"
     ]
    }
   ],
   "source": [
    "import pandas as pd\n",
    "\n",
    "# Create a DataFrame\n",
    "data = {\n",
    "    'Name': ['Alice', 'Bob', 'Carol'],\n",
    "    'Age': [30, 25, 28],\n",
    "    'Country': ['USA', 'Canada', 'UK']\n",
    "}\n",
    "df = pd.DataFrame(data)\n",
    "\n",
    "# Accessing columns\n",
    "print(df['Name'])  # Prints the 'Name' column\n",
    "\n",
    "print('='*40)\n",
    "\n",
    "print(df[['Name', 'Age']])  # Prints the 'Name' and 'Age' columns\n",
    "\n",
    "print('='*40)\n",
    "\n",
    "# Accessing rows by index\n",
    "print(df.iloc[0])  # Prints the first row (Alice's information)\n",
    "\n",
    "print('='*40)\n",
    "\n",
    "print(df.iloc[1:3])  # Prints the second and third rows (Bob's and Carol's information)\n",
    "\n",
    "print('='*40)\n",
    "\n",
    "# Accessing specific elements\n",
    "print(df.at[0, 'Name'])  # Prints 'Alice'\n",
    "\n",
    "print('='*40)\n",
    "\n",
    "print(df.loc[1, 'Age'])  # Prints 25 (Bob's age)\n"
   ]
  },
  {
   "cell_type": "code",
   "execution_count": 60,
   "metadata": {},
   "outputs": [
    {
     "name": "stdout",
     "output_type": "stream",
     "text": [
      "Empty DataFrame\n",
      "Columns: [Name, Age, Country]\n",
      "Index: []\n",
      "========================================\n",
      "Name       Alice\n",
      "Age           30\n",
      "Country      USA\n",
      "Name: 0, dtype: object\n",
      "========================================\n",
      "    Name  Age Country\n",
      "0  Alice   30     USA\n",
      "1    Bob   25  Canada\n"
     ]
    }
   ],
   "source": [
    "print(df[0:0]) # in faghat dare row haro slice mikone \n",
    "print('='*40)\n",
    "\"\"\"\n",
    "df.loc is used for label-based indexing. It allows you to access rows and columns by their labels (names).\n",
    "\"\"\"\n",
    "\n",
    "print(df.loc[0])  # Prints the first row (Alice's information)\n",
    "\n",
    "print('='*40)\n",
    "\n",
    "print(df.loc[0:1]) # Prints the first and second rows (Alice's and Bob's information)"
   ]
  },
  {
   "cell_type": "code",
   "execution_count": 63,
   "metadata": {},
   "outputs": [
    {
     "name": "stdout",
     "output_type": "stream",
     "text": [
      "Alice\n",
      "========================================\n",
      "    Name  Age\n",
      "0  Alice   30\n",
      "1    Bob   25\n"
     ]
    }
   ],
   "source": [
    "print(df.loc[0, 'Name'])  # Prints 'Alice'\n",
    "\n",
    "print('='*40)\n",
    "\n",
    "print(df.loc[0:1, ['Name', 'Age']])  # Prints the 'Name' and 'Age' columns for the first two rows\n"
   ]
  },
  {
   "cell_type": "code",
   "execution_count": 66,
   "metadata": {},
   "outputs": [
    {
     "name": "stdout",
     "output_type": "stream",
     "text": [
      "    Name  Age Country\n",
      "0  Alice   30     USA\n",
      "2  Carol   28      UK\n"
     ]
    }
   ],
   "source": [
    "print(df.loc[df['Age'] > 25])  # Prints rows where 'Age' is greater than 25\n"
   ]
  },
  {
   "cell_type": "code",
   "execution_count": 62,
   "metadata": {},
   "outputs": [
    {
     "name": "stdout",
     "output_type": "stream",
     "text": [
      "Alice\n"
     ]
    }
   ],
   "source": [
    "\"\"\"\n",
    "df.at is used to access a single value for a row/column label pair.\n",
    " It is very fast for scalar access and should be used when you want to get or set a single value in a DataFrame.\n",
    "\"\"\"\n",
    "\n",
    "print(df.at[0, 'Name'])  # Prints 'Alice'"
   ]
  },
  {
   "cell_type": "code",
   "execution_count": 64,
   "metadata": {},
   "outputs": [
    {
     "name": "stdout",
     "output_type": "stream",
     "text": [
      "Alicia\n"
     ]
    }
   ],
   "source": [
    "df.at[0, 'Name'] = 'Alicia'\n",
    "print(df.at[0, 'Name'])  # Prints 'Alicia'\n"
   ]
  },
  {
   "cell_type": "markdown",
   "metadata": {},
   "source": [
    "Summary of Differences\n",
    "\n",
    "    df.loc(location):\n",
    "        Label-based indexing.\n",
    "        Can access multiple rows and columns.\n",
    "        Can use boolean arrays for indexing.\n",
    "        Syntax: df.loc[row_labels, column_labels].\n",
    "\n",
    "    df.iloc(integer location):\n",
    "        Integer-based (positional) indexing.\n",
    "        Can access multiple rows and columns.\n",
    "        Syntax: df.iloc[row_positions, column_positions].\n",
    "\n",
    "    df.at:\n",
    "        Used for accessing a single scalar value.\n",
    "        Faster for accessing single elements compared to df.loc and df.iloc.\n",
    "        Syntax: df.at[row_label, column_label]."
   ]
  },
  {
   "cell_type": "code",
   "execution_count": 65,
   "metadata": {},
   "outputs": [
    {
     "name": "stdout",
     "output_type": "stream",
     "text": [
      "    Name  Age\n",
      "0  Alice   30\n",
      "1    Bob   25\n",
      "2  Carol   28\n",
      "    Name  Age\n",
      "0  Alice   30\n",
      "1    Bob   25\n",
      "Canada\n",
      "France\n"
     ]
    }
   ],
   "source": [
    "import pandas as pd\n",
    "\n",
    "data = {\n",
    "    'Name': ['Alice', 'Bob', 'Carol'],\n",
    "    'Age': [30, 25, 28],\n",
    "    'Country': ['USA', 'Canada', 'UK']\n",
    "}\n",
    "df = pd.DataFrame(data)\n",
    "\n",
    "# Using df.loc to access multiple rows and columns\n",
    "print(df.loc[0:2, ['Name', 'Age']])  # Prints 'Name' and 'Age' columns for the first three rows\n",
    "\n",
    "# Using df.iloc to access multiple rows and columns by integer position\n",
    "print(df.iloc[0:2, [0, 1]])  # Prints 'Name' and 'Age' columns for the first two rows\n",
    "\n",
    "# Using df.at to access a single value\n",
    "print(df.at[1, 'Country'])  # Prints 'Canada'\n",
    "\n",
    "# Using df.at to set a single value\n",
    "df.at[1, 'Country'] = 'France'\n",
    "print(df.at[1, 'Country'])  # Prints 'France'\n"
   ]
  },
  {
   "cell_type": "code",
   "execution_count": 69,
   "metadata": {},
   "outputs": [
    {
     "name": "stdout",
     "output_type": "stream",
     "text": [
      "    Name  Age Country\n",
      "0  Alice   30     USA\n",
      "========================================\n",
      "    Name  Age Country\n",
      "0  Alice   30     USA\n",
      "1    Bob   25  Canada\n"
     ]
    }
   ],
   "source": [
    "import pandas as pd\n",
    "\n",
    "data = {\n",
    "    'Name': ['Alice', 'Bob', 'Carol'],\n",
    "    'Age': [30, 25, 28],\n",
    "    'Country': ['USA', 'Canada', 'UK']\n",
    "}\n",
    "df = pd.DataFrame(data)\n",
    "\n",
    "print(df[0:1])\n",
    "\n",
    "print('='*40)\n",
    "\n",
    "print(df.loc[0:1])\n"
   ]
  },
  {
   "cell_type": "markdown",
   "metadata": {},
   "source": [
    "Rows represent individual records or data points.\n",
    "Columns represent different attributes or features of the data.\n",
    "\n",
    "\n",
    "df[0:1]\n",
    "\n",
    "    Purpose: This is primarily used for row slicing by integer position.\n",
    "    Behavior: When you use df[0:1], it slices the DataFrame to return the rows from index 0 to 1 (excluding 1).\n",
    "\n",
    "\n",
    "df.loc[0:1]\n",
    "\n",
    "    Purpose: This is used for label-based indexing, which can include slicing by index labels.\n",
    "    Behavior: When you use df.loc[0:1], it slices the DataFrame to return the rows with labels 0 and 1 (inclusive of both).\n",
    "\n",
    "Summary\n",
    "\n",
    "    Use df[0:1] for slicing rows by integer position.\n",
    "    Use df.loc[0:1] for slicing rows by index labels.\n",
    "    Use df.loc[:, 'col1':'col2'] for slicing columns by their labels.\n",
    "\n",
    "\n",
    "index labels :\n",
    "In pandas, an index label refers to the labels or names assigned to the rows in a DataFrame. By default, these are integers starting from 0, but you can customize them to be any labels you want, such as strings or dates.\n",
    "When you create a DataFrame without specifying an index, pandas assigns default integer index labels starting from 0.\n",
    "\n",
    "    Name  Age Country\n",
    "0  Alice   30     USA\n",
    "1    Bob   25  Canada\n",
    "2  Carol   28      UK\n",
    "\n",
    "Here, the index labels are 0, 1, and 2.\n"
   ]
  },
  {
   "cell_type": "markdown",
   "metadata": {},
   "source": [
    "# Loc is best\n",
    "df.loc: Access or set groups of rows and columns by labels or boolean arrays."
   ]
  },
  {
   "cell_type": "code",
   "execution_count": 3,
   "metadata": {},
   "outputs": [
    {
     "name": "stdout",
     "output_type": "stream",
     "text": [
      "Index(['Name', 'Age', 'Country'], dtype='object')\n",
      "========================================\n",
      "[['Alice' 30 'USA']\n",
      " ['Bob' 25 'Canada']\n",
      " ['Carol' 28 'UK']]\n",
      "========================================\n",
      "Name       Alice\n",
      "Age           30\n",
      "Country      USA\n",
      "Name: 0, dtype: object\n",
      "========================================\n",
      "    Name  Age Country\n",
      "0  Alice   30     USA\n",
      "1    Bob   25  Canada\n",
      "========================================\n",
      "Name       Alice\n",
      "Age           30\n",
      "Country      USA\n",
      "Name: 0, dtype: object\n",
      "========================================\n",
      "Name       Alice\n",
      "Age           30\n",
      "Country      USA\n",
      "Name: 0, dtype: object\n",
      "========================================\n",
      "    Name  Age Country\n",
      "0  Alice   30     USA\n",
      "1    Bob   25  Canada\n",
      "2  Carol   28      UK\n",
      "========================================\n",
      "Alice\n",
      "========================================\n",
      "    Name  Age\n",
      "0  Alice   30\n",
      "1    Bob   25\n",
      "========================================\n",
      "0    Alice\n",
      "1      Bob\n",
      "2    Carol\n",
      "Name: Name, dtype: object\n",
      "========================================\n",
      "    Name  Age\n",
      "0  Alice   30\n",
      "1    Bob   25\n",
      "2  Carol   28\n",
      "========================================\n",
      "    Name  Age Country\n",
      "0  Alice   30     USA\n",
      "2  Carol   28      UK\n",
      "========================================\n",
      "    Name  Age Country\n",
      "0  Alice   30     USA\n",
      "1    Bob   25  France\n",
      "2  Carol   28      UK\n",
      "========================================\n",
      "    Name Country\n",
      "0  Alice     USA\n",
      "2  Carol      UK\n",
      "========================================\n"
     ]
    }
   ],
   "source": [
    "import pandas as pd\n",
    "\n",
    "data = {\n",
    "    'Name': ['Alice', 'Bob', 'Carol'],\n",
    "    'Age': [30, 25, 28],\n",
    "    'Country': ['USA', 'Canada', 'UK']\n",
    "}\n",
    "df = pd.DataFrame(data)\n",
    "\n",
    "print(df.keys())\n",
    "\n",
    "print('='*40)\n",
    "\n",
    "print(df.values)\n",
    "# print(df.values())\n",
    "\n",
    "print('='*40)\n",
    "\n",
    "# Access the row with label 0\n",
    "print(df.loc[0])\n",
    "\n",
    "print('='*40)\n",
    "\n",
    "# Access rows with labels 0 and 1\n",
    "print(df.loc[0:1])\n",
    "\n",
    "\n",
    "print('='*40)\n",
    "\n",
    "# Access the first row and all columns\n",
    "print(df.loc[0, :])\n",
    "\n",
    "print('='*40)\n",
    "\n",
    "# Access the first row and columns from 'Name' to 'Country'\n",
    "print(df.loc[0, 'Name':'Country'])\n",
    "\n",
    "\n",
    "print('='*40)\n",
    "\n",
    "\n",
    "# Access all rows and columns from 'Name' to 'Country'\n",
    "print(df.loc[:, 'Name':'Country'])\n",
    "\n",
    "print('='*40)\n",
    "\n",
    "\n",
    "# Access the 'Name' column for the row with label 0\n",
    "print(df.loc[0, 'Name'])\n",
    "\n",
    "print('='*40)\n",
    "\n",
    "# Access the 'Name' and 'Age' columns for rows with labels 0 and 1\n",
    "print(df.loc[0:1, ['Name', 'Age']])\n",
    "\n",
    "\n",
    "print('='*40)\n",
    "\n",
    "# Access all rows for the 'Name' column\n",
    "print(df.loc[:, 'Name'])\n",
    "\n",
    "print('='*40)\n",
    "\n",
    "# Access all rows for the 'Name' and 'Age' columns\n",
    "print(df.loc[:, ['Name', 'Age']])\n",
    "\n",
    "print('='*40)\n",
    "\n",
    "# Accessing Rows Using Boolean Indexing\n",
    "# Access rows where 'Age' is greater than 25\n",
    "print(df.loc[df['Age'] > 25])\n",
    "\n",
    "\n",
    "print('='*40)\n",
    "\n",
    "# Set the 'Country' value for the row with label 1\n",
    "df.loc[1, 'Country'] = 'France'\n",
    "print(df)\n",
    "\n",
    "\n",
    "print('='*40)\n",
    "\n",
    "# 7. Selecting Rows and Columns with Conditions\n",
    "# Access 'Name' and 'Country' columns for rows where 'Age' is greater than 25\n",
    "print(df.loc[df['Age'] > 25, ['Name', 'Country']])\n",
    "\n",
    "print('='*40)\n"
   ]
  }
 ],
 "metadata": {
  "kernelspec": {
   "display_name": "Python 3",
   "language": "python",
   "name": "python3"
  },
  "language_info": {
   "codemirror_mode": {
    "name": "ipython",
    "version": 3
   },
   "file_extension": ".py",
   "mimetype": "text/x-python",
   "name": "python",
   "nbconvert_exporter": "python",
   "pygments_lexer": "ipython3",
   "version": "3.12.4"
  }
 },
 "nbformat": 4,
 "nbformat_minor": 2
}
