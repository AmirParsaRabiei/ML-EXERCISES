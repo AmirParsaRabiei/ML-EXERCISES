{
 "cells": [
  {
   "cell_type": "code",
   "execution_count": 28,
   "metadata": {},
   "outputs": [
    {
     "name": "stdout",
     "output_type": "stream",
     "text": [
      "[0, 1, 2, 3, 4, 5, 6, 7, 8, 9]\n",
      "====================\n",
      "[1, 2, 3]\n",
      "140596967779840\n",
      "[10, 2, 3]\n",
      "140596967779840\n",
      "(1, 2, 3)\n",
      "140596969593984\n"
     ]
    }
   ],
   "source": [
    "# elementry-python\n",
    "\n",
    "# system command in python(by !...)\n",
    "!python script.py\n",
    "\n",
    "\n",
    "\n",
    "print('='*20)\n",
    "# id : for memory address | tuple => immutable and list => mutable\n",
    "a = [1,2,3]\n",
    "print(a)\n",
    "print(id(a))\n",
    "a[0] = 10\n",
    "print(a)\n",
    "print(id(a))\n",
    "\n",
    "\n",
    "b = (1,2,3)\n",
    "print(b)\n",
    "print(id(b))\n"
   ]
  }
 ],
 "metadata": {
  "kernelspec": {
   "display_name": "Python 3",
   "language": "python",
   "name": "python3"
  },
  "language_info": {
   "codemirror_mode": {
    "name": "ipython",
    "version": 3
   },
   "file_extension": ".py",
   "mimetype": "text/x-python",
   "name": "python",
   "nbconvert_exporter": "python",
   "pygments_lexer": "ipython3",
   "version": "3.12.2"
  }
 },
 "nbformat": 4,
 "nbformat_minor": 2
}
