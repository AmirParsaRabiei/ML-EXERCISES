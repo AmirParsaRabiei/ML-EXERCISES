{
 "cells": [
  {
   "cell_type": "code",
   "execution_count": 15,
   "metadata": {},
   "outputs": [
    {
     "name": "stdout",
     "output_type": "stream",
     "text": [
      "[0, 1, 2, 3, 4, 5, 6, 7, 8, 9]\n"
     ]
    },
    {
     "name": "stdout",
     "output_type": "stream",
     "text": [
      "Hi ;)\n",
      "====================\n",
      "[1, 2, 3]\n",
      "140442147096896\n",
      "[10, 2, 3]\n",
      "140442147096896\n",
      "(1, 2, 3)\n",
      "140442147347776\n",
      "s\n",
      "Hello\n",
      "None\n",
      "<class 'NoneType'>\n",
      "====================\n",
      "0\n",
      "1\n",
      "2\n",
      "3\n",
      "4\n",
      "6\n",
      "7\n",
      "8\n",
      "9\n",
      "==========\n",
      "0\n",
      "1\n",
      "2\n",
      "3\n",
      "4\n"
     ]
    }
   ],
   "source": [
    "# elementry-python\n",
    "\n",
    "# system command in python(by !...)\n",
    "!python script.py\n",
    "\n",
    "!echo \"Hi ;)\"\n",
    "\n",
    "\n",
    "print('='*20)\n",
    "# id : for memory address | tuple => immutable and list => mutable\n",
    "a = [1,2,3]\n",
    "print(a)\n",
    "print(id(a))\n",
    "a[0] = 10\n",
    "print(a)\n",
    "print(id(a))\n",
    "\n",
    "\n",
    "b = (1,2,3)\n",
    "print(b)\n",
    "print(id(b))\n",
    "\n",
    "# data objects has 2 type : Scalar(be bakhsh haye kochiktar taghsim nmishe) and non-scalar\n",
    "# (sakhtar daroni dare ke mishe behesh dastresi dasht)\n",
    "# scalar is like int, None type, bool. float\n",
    "# non-scalar is like tuple, list, dictionary, str\n",
    "\n",
    "# injam man tonestam ye bakhsh az salam ro joda konam...\n",
    "non_scalar_ex = \"salam\"\n",
    "print(non_scalar_ex[0])\n",
    "\n",
    "# scalar ex: python mesle c++ nimad check kone az aval ke int hast ya void, balke age\n",
    "# return nadasht, mesle function zir, object none type barash assign mikone\n",
    "def scalar_ex():\n",
    "    print(\"Hello\")\n",
    "\n",
    "a = scalar_ex()\n",
    "print(a)\n",
    "print(type(a))\n",
    "\n",
    "\n",
    "print('='*20)\n",
    "\n",
    "# defference between break(stop) and continue(skip)\n",
    "for i in range(10):\n",
    "    if i == 5:\n",
    "        continue\n",
    "    print(i)\n",
    "print('='*10)\n",
    "for i in range(10):\n",
    "    if i == 5:\n",
    "        break\n",
    "    print(i)"
   ]
  }
 ],
 "metadata": {
  "kernelspec": {
   "display_name": "Python 3",
   "language": "python",
   "name": "python3"
  },
  "language_info": {
   "codemirror_mode": {
    "name": "ipython",
    "version": 3
   },
   "file_extension": ".py",
   "mimetype": "text/x-python",
   "name": "python",
   "nbconvert_exporter": "python",
   "pygments_lexer": "ipython3",
   "version": "3.12.2"
  }
 },
 "nbformat": 4,
 "nbformat_minor": 2
}
