{
 "cells": [
  {
   "cell_type": "code",
   "execution_count": 15,
   "metadata": {},
   "outputs": [
    {
     "name": "stdout",
     "output_type": "stream",
     "text": [
      "/bin/python\n",
      "Python 3.12.2\n",
      "numpy==1.26.4\n",
      "/bin/python\n"
     ]
    }
   ],
   "source": [
    "import numpy as np\n",
    "import math\n",
    "import sys\n",
    "# in command miad version package haro mide va grep kardam ke faghat numpy ro bede\n",
    "!which python\n",
    "!python --version\n",
    "!pip freeze | grep \"numpy\"\n",
    "print(sys.executable)"
   ]
  },
  {
   "cell_type": "code",
   "execution_count": 4,
   "metadata": {},
   "outputs": [
    {
     "name": "stdout",
     "output_type": "stream",
     "text": [
      "[1 2 3]\n",
      "================================================================================\n",
      "[1. 1. 1.]\n",
      "================================================================================\n",
      "[0. 0. 0.]\n",
      "================================================================================\n",
      "0.8867254344825319\n",
      "================================================================================\n",
      "[0.78157239 0.55755435 0.77444313 0.19073867 0.05975045]\n",
      "================================================================================\n",
      "[[0.71533155 0.28438133 0.14820935 0.55738324 0.27919179]\n",
      " [0.26929684 0.36346656 0.41563249 0.60140372 0.05367265]\n",
      " [0.00682215 0.86950767 0.75834614 0.06328155 0.07223318]\n",
      " [0.81314534 0.82346978 0.72198394 0.78270316 0.46077255]\n",
      " [0.39697319 0.39802974 0.37363131 0.65581573 0.33546504]]\n",
      "<class 'numpy.ndarray'>\n",
      "================================================================================\n",
      "[1, 2, 3, 2, 3, 4, 5, 6]\n",
      "================================================================================\n",
      "[2 3 4]\n",
      "================================================================================\n",
      "[2. 3. 4.]\n",
      "================================================================================\n",
      "[3 4 5]\n",
      "================================================================================\n",
      "3\n",
      "1\n",
      "6\n",
      "6\n",
      "0.816496580927726\n",
      "2.0\n",
      "1.0\n"
     ]
    }
   ],
   "source": [
    "# creating array\n",
    "a = np.array([1,2,3])\n",
    "print(a)\n",
    "print('='*80)\n",
    "# ones matrix\n",
    "a = np.ones(3)\n",
    "print(a)\n",
    "print('='*80)\n",
    "# zeors\n",
    "a = np.zeros(3)\n",
    "print(a)\n",
    "print('='*80)\n",
    "# generates random floating-point numbers uniformly distributed between 0 and 1 (exclusive of 1)\n",
    "a = np.random.random()\n",
    "print(a)\n",
    "print('='*80)\n",
    "\n",
    "a = np.random.random(size=5)\n",
    "print(a)\n",
    "print('='*80)\n",
    "\n",
    "# 2d\n",
    "a = np.random.random(size=(5,5))\n",
    "print(a)\n",
    "print(type(a)) # ndarray : n-dimensional array (array haye chand boudi) ke be ina migan tensor\n",
    "print('='*80)\n",
    "\n",
    "# to list mamoli mishe inkaro kard mesle addad behesh negah mikone\n",
    "a = [1,2,3] + [2,3,4,5,6]\n",
    "print(a)\n",
    "print('='*80)\n",
    "\n",
    "# vali to np.array chon tensor hast, hatman bayad vectorize behesh negah koni va len yeksan bashe\n",
    "a = np.array([1,2,3])\n",
    "b = np.array([1,1,1])\n",
    "print(a+b)\n",
    "print('='*80)\n",
    "a = np.array([1,2,3])\n",
    "b = np.ones(3)\n",
    "print(a+b)\n",
    "print('='*80)\n",
    "\n",
    "\n",
    "\"\"\"\n",
    "dar halati ke ba addad ha hastim nmishe [1,2,3]+10 kard...\n",
    "vali ba np array ha mishe\n",
    "\"\"\"\n",
    "# broadcasting\n",
    "a = np.array([1,2,3]) + 2\n",
    "print(a)\n",
    "print('='*80)\n",
    "\n",
    "\"\"\"\n",
    "kolan hamon kar haye ke mikonim element be element(elementvize) mesle matrix(tensor)\n",
    "anjam mide\n",
    "msln to ML bias ro ba multiply kardan ye nouron to 0.7 mitonam kole\n",
    "element hasho * 0.7 konam...\n",
    "\"\"\"\n",
    "\n",
    "# Aggregation\n",
    "a = np.array([1,2,3])\n",
    "print(np.max(a))\n",
    "print(np.min(a))\n",
    "print(np.sum(a))\n",
    "print(np.prod(a)) # multiplying all the elements together\n",
    "print(np.std(a)) # standard deviation\n",
    "print(np.mean(a)) # average\n",
    "print(math.sqrt(1))\n"
   ]
  },
  {
   "cell_type": "code",
   "execution_count": 12,
   "metadata": {},
   "outputs": [
    {
     "name": "stdout",
     "output_type": "stream",
     "text": [
      "mean is 31.857142857142858 / deviation is 29.33271489762422 / sumation is 223\n",
      "====================\n",
      "int64\n",
      "====================\n",
      "float32\n",
      "====================\n"
     ]
    }
   ],
   "source": [
    "import numpy as np\n",
    "\n",
    "def statistics(nparray):\n",
    "    a = np.mean(nparray)\n",
    "    b = np.std(nparray)\n",
    "    sumation = np.sum(nparray)\n",
    "    return a,b,sumation\n",
    "\n",
    "tensor = np.array([44,5,6,87,5,56,20])\n",
    "\n",
    "mean, deviation, sumation = statistics(tensor)\n",
    "print(f'mean is {mean} / deviation is {deviation} / sumation is {sumation}')\n",
    "print('='*20)\n",
    "\"\"\"\n",
    "data type haye tensor bayad hamgen bashan vagarna kar nmikone...\n",
    "msln age to tensor string bezaram, data type kole tensor string mishe\n",
    "\"\"\"\n",
    "print(tensor.dtype)\n",
    "\n",
    "print('='*20)\n",
    "# bezor ham mitonam data type ro malom konam\n",
    "a = np.array([44,5,6,87,5,56,20], dtype='float32')\n",
    "print(a.dtype)\n",
    "print('='*20)\n",
    "\n"
   ]
  }
 ],
 "metadata": {
  "kernelspec": {
   "display_name": "Python 3",
   "language": "python",
   "name": "python3"
  },
  "language_info": {
   "codemirror_mode": {
    "name": "ipython",
    "version": 3
   },
   "file_extension": ".py",
   "mimetype": "text/x-python",
   "name": "python",
   "nbconvert_exporter": "python",
   "pygments_lexer": "ipython3",
   "version": "3.12.2"
  }
 },
 "nbformat": 4,
 "nbformat_minor": 2
}
