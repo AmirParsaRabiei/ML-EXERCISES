{
 "cells": [
  {
   "cell_type": "markdown",
   "metadata": {},
   "source": [
    "<div dir=\"rtl\" style=\"text-align: right;\">\n",
    "    1-  برنامه ای بنویسید که ده عدد صحیح را از ورودی دریافت کرده، میانگین اعداد زوج خوانده شده  را در خروجی نمایش دهد\n",
    "</div>\n"
   ]
  },
  {
   "cell_type": "code",
   "execution_count": 6,
   "metadata": {},
   "outputs": [
    {
     "name": "stdout",
     "output_type": "stream",
     "text": [
      "Average of even numbers = 4.8\n"
     ]
    }
   ],
   "source": [
    "even_sum = 0\n",
    "even_count = 0\n",
    "\n",
    "for i in range(10):\n",
    "    num = int(input(f'enter number {i+1}: '))\n",
    "\n",
    "    if num % 2 == 0:\n",
    "        even_sum += num\n",
    "        even_count += 1\n",
    "\n",
    "if even_count > 0:\n",
    "    even_avg = even_sum / even_count\n",
    "    print(f'Average of even numbers = {even_avg}')\n",
    "else:\n",
    "    print('There are no even numbers')\n"
   ]
  },
  {
   "cell_type": "markdown",
   "metadata": {},
   "source": [
    "<div dir=\"rtl\" style=\"text-align: right;\">\n",
    "    2-   برنامه ای که با دریافت مقدار x از ورودی، مقدار  y را با توجه به تابع چندضابطه ای زیر محاسبه نماید\n",
    "</div>"
   ]
  },
  {
   "cell_type": "markdown",
   "metadata": {},
   "source": [
    "<div style=\"text-align: left;\">\n",
    "    <math xmlns=\"http://www.w3.org/1998/Math/MathML\">\n",
    "        <mfenced open=\"{\" close=\"\">\n",
    "            <mtable>\n",
    "                <mtr>\n",
    "                    <mtd>\n",
    "                        <mrow>\n",
    "                            <msup><mn>2</mn><mi>x</mi></msup>\n",
    "                            <mo>-</mo>\n",
    "                            <mn>3</mn><mi>x</mi><mo>+</mo><mn>1</mn>\n",
    "                        </mrow>\n",
    "                    </mtd>\n",
    "                    <mtd>\n",
    "                        <mo>x&lt;0</mo>\n",
    "                    </mtd>\n",
    "                </mtr>\n",
    "                <mtr>\n",
    "                    <mtd>\n",
    "                        <mn>3</mn>\n",
    "                    </mtd>\n",
    "                    <mtd>\n",
    "                        <mo>x=0</mo>\n",
    "                    </mtd>\n",
    "                </mtr>\n",
    "                <mtr>\n",
    "                    <mtd>\n",
    "                        <mrow>\n",
    "                            <mo>(</mo>\n",
    "                            <mn>2</mn><mi>x</mi><mo>+</mo><mn>4</mn>\n",
    "                            <mo>)(</mo><mn>2</mn><mi>x</mi><mo>-</mo><mn>5</mn><mo>)</mo>\n",
    "                        </mrow>\n",
    "                    </mtd>\n",
    "                    <mtd>\n",
    "                        <mo>x&gt;0</mo>\n",
    "                    </mtd>\n",
    "                </mtr>\n",
    "            </mtable>\n",
    "        </mfenced>\n",
    "    </math>\n",
    "</div>"
   ]
  },
  {
   "cell_type": "code",
   "execution_count": 7,
   "metadata": {},
   "outputs": [
    {
     "name": "stdout",
     "output_type": "stream",
     "text": [
      "for your x:-5.0, y = 66.0\n"
     ]
    }
   ],
   "source": [
    "x = float(input('enter x : '))\n",
    "\n",
    "if x < 0:\n",
    "    y = 2 * x**2 - 3 * x +1\n",
    "elif x == 0:\n",
    "    y = 3\n",
    "else:\n",
    "    y = (2 * x + 4) * (2 * x -5)\n",
    "\n",
    "print(f'for your x:{x}, y = {y}')"
   ]
  }
 ],
 "metadata": {
  "kernelspec": {
   "display_name": "Python 3",
   "language": "python",
   "name": "python3"
  },
  "language_info": {
   "codemirror_mode": {
    "name": "ipython",
    "version": 3
   },
   "file_extension": ".py",
   "mimetype": "text/x-python",
   "name": "python",
   "nbconvert_exporter": "python",
   "pygments_lexer": "ipython3",
   "version": "3.12.5"
  }
 },
 "nbformat": 4,
 "nbformat_minor": 2
}
