{
 "cells": [
  {
   "cell_type": "markdown",
   "metadata": {},
   "source": [
    "<div dir=\"rtl\" style=\"text-align: right;\">\n",
    "    1-  برنامه ای بنویسید که ده عدد صحیح را از ورودی دریافت کرده، میانگین اعداد زوج خوانده شده  را در خروجی نمایش دهد\n",
    "</div>\n"
   ]
  },
  {
   "cell_type": "code",
   "execution_count": 19,
   "metadata": {},
   "outputs": [
    {
     "name": "stdout",
     "output_type": "stream",
     "text": [
      "num of even count : 6\n",
      "Average of even numbers = 16.0\n",
      "====================\n",
      "the avg pf even numbers is: 5.2\n"
     ]
    }
   ],
   "source": [
    "even_sum = 0\n",
    "even_count = 0\n",
    "\n",
    "for i in range(10):\n",
    "    num = int(input(f'enter number {i+1}: '))\n",
    "\n",
    "    if num % 2 == 0:\n",
    "        even_sum += num\n",
    "        even_count += 1\n",
    "\n",
    "print(f'num of even count : {even_count}')\n",
    "if even_count > 0 :\n",
    "    even_avg = even_sum / even_count\n",
    "    print(f'Average of even numbers = {even_avg}')\n",
    "else:\n",
    "    print('There are no even numbers')\n",
    "\n",
    "\n",
    "# second approach\n",
    "print('='*20)\n",
    "\n",
    "numbers = [int(input(f'enter num {i+1}: ')) for i in range (10)]\n",
    "\n",
    "even_numbers = list(filter(lambda x: x % 2 == 0, numbers))\n",
    "\n",
    "if even_numbers:\n",
    "    average = sum(even_numbers) / len(even_numbers)\n",
    "    print(f'the avg pf even numbers is: {average}')\n",
    "else:\n",
    "    print(f'no even numbecountrs were entered.')"
   ]
  },
  {
   "cell_type": "markdown",
   "metadata": {},
   "source": [
    "<div dir=\"rtl\" style=\"text-align: right;\">\n",
    "    2-   برنامه ای که با دریافت مقدار x از ورودی، مقدار  y را با توجه به تابع چندضابطه ای زیر محاسبه نماید\n",
    "</div>"
   ]
  },
  {
   "cell_type": "markdown",
   "metadata": {},
   "source": [
    "<div style=\"text-align: left;\">\n",
    "    <math xmlns=\"http://www.w3.org/1998/Math/MathML\">\n",
    "        <mfenced open=\"{\" close=\"\">\n",
    "            <mtable>\n",
    "                <mtr>\n",
    "                    <mtd>\n",
    "                        <mrow>\n",
    "                            <mn>2</mn><msup><mi>x</mi><mn>2</mn></msup>\n",
    "                            <mo>-</mo>\n",
    "                            <mn>3</mn><mi>x</mi>\n",
    "                            <mo>+</mo><mn>1</mn>\n",
    "                        </mrow>\n",
    "                    </mtd>\n",
    "                    <mtd>\n",
    "                        <mo>x&lt;0</mo>\n",
    "                    </mtd>\n",
    "                </mtr>\n",
    "                <mtr>\n",
    "                    <mtd>\n",
    "                        <mn>3</mn>\n",
    "                    </mtd>\n",
    "                    <mtd>\n",
    "                        <mo>x=0</mo>\n",
    "                    </mtd>\n",
    "                </mtr>\n",
    "                <mtr>\n",
    "                    <mtd>\n",
    "                        <mrow>\n",
    "                            <mo>(</mo>\n",
    "                            <mn>2</mn><mi>x</mi><mo>+</mo><mn>4</mn>\n",
    "                            <mo>)</mo>\n",
    "                            <mo>(</mo>\n",
    "                            <mn>2</mn><mi>x</mi><mo>-</mo><mn>5</mn><mo>)</mo>\n",
    "                        </mrow>\n",
    "                    </mtd>\n",
    "                    <mtd>\n",
    "                        <mo>x&gt;0</mo>\n",
    "                    </mtd>\n",
    "                </mtr>\n",
    "            </mtable>\n",
    "        </mfenced>\n",
    "    </math>\n",
    "</div>\n"
   ]
  },
  {
   "cell_type": "code",
   "execution_count": 7,
   "metadata": {},
   "outputs": [
    {
     "name": "stdout",
     "output_type": "stream",
     "text": [
      "for your x:-5.0, y = 66.0\n"
     ]
    }
   ],
   "source": [
    "x = float(input('enter x : '))\n",
    "\n",
    "if x < 0:\n",
    "    y = 2 * x**2 - 3 * x +1\n",
    "elif x == 0:\n",
    "    y = 3\n",
    "else:\n",
    "    y = (2 * x + 4) * (2 * x -5)\n",
    "\n",
    "print(f'for your x:{x}, y = {y}')"
   ]
  },
  {
   "cell_type": "markdown",
   "metadata": {},
   "source": [
    "<div dir=\"rtl\" style=\"text-align: right;\">\n",
    "    3-    حقوق کارمند را از ور ودی دریافت نموده و مالیات را براساس جدول زیر مشخص کنید  \n",
    "</div>"
   ]
  },
  {
   "cell_type": "markdown",
   "metadata": {},
   "source": [
    "<h2 style=\"text-align: center;\">جدول مالیات حقوق ماهیانه سال ۱۴۰۲</h2>\n",
    "\n",
    "<table style=\"width:100%; border-collapse: collapse; direction: rtl; text-align: center;\" border=\"1\">\n",
    "    <thead>\n",
    "        <tr>\n",
    "            <th style=\"background-color: yellow; color: black;\">پایه</th>\n",
    "            <th style=\"background-color: yellow; color: black;\">از</th>\n",
    "            <th style=\"background-color: yellow; color: black;\">تا</th>\n",
    "            <th style=\"background-color: yellow; color: black;\">حقوق مشمول مالیات</th>\n",
    "            <th style=\"background-color: yellow; color: black;\">نرخ</th>\n",
    "            <th style=\"background-color: yellow; color: black;\">مالیات متعلق</th>\n",
    "            <th style=\"background-color: yellow; color: black;\">مالیات تجمیعی</th>\n",
    "        </tr>\n",
    "    </thead>\n",
    "    <tbody>\n",
    "        <tr>\n",
    "            <td>اول</td>\n",
    "            <td>-</td>\n",
    "            <td>۱۰,۰۰۰,۰۰۰</td>\n",
    "            <td>-</td>\n",
    "            <td>-</td>\n",
    "            <td>-</td>\n",
    "            <td>-</td>\n",
    "        </tr>\n",
    "        <tr>\n",
    "            <td>دوم</td>\n",
    "            <td>۱۰,۰۰۰,۰۰۱</td>\n",
    "            <td>۱۴,۰۰۰,۰۰۰</td>\n",
    "            <td>۴,۰۰۰,۰۰۰</td>\n",
    "            <td>۱۰٪</td>\n",
    "            <td>۴۰۰,۰۰۰</td>\n",
    "            <td>۴۰۰,۰۰۰</td>\n",
    "        </tr>\n",
    "        <tr>\n",
    "            <td>سوم</td>\n",
    "            <td>۱۴,۰۰۰,۰۰۱</td>\n",
    "            <td>۲۳,۰۰۰,۰۰۰</td>\n",
    "            <td>۹,۰۰۰,۰۰۰</td>\n",
    "            <td>۱۵٪</td>\n",
    "            <td>۱,۳۵۰,۰۰۰</td>\n",
    "            <td>۱,۷۵۰,۰۰۰</td>\n",
    "        </tr>\n",
    "        <tr>\n",
    "            <td>چهارم</td>\n",
    "            <td>۲۳,۰۰۰,۰۰۱</td>\n",
    "            <td>۳۴,۰۰۰,۰۰۰</td>\n",
    "            <td>۱۱,۰۰۰,۰۰۰</td>\n",
    "            <td>۲۰٪</td>\n",
    "            <td>۲,۲۰۰,۰۰۰</td>\n",
    "            <td>۳,۹۵۰,۰۰۰</td>\n",
    "        </tr>\n",
    "        <tr>\n",
    "            <td>پنجم</td>\n",
    "            <td>۳۴,۰۰۰,۰۰۱</td>\n",
    "            <td>بیشتر</td>\n",
    "            <td>-</td>\n",
    "            <td>۲۵٪</td>\n",
    "            <td>x</td>\n",
    "            <td>۳,۹۵۰,۰۰۰ + x</td>\n",
    "        </tr>\n",
    "    </tbody>\n",
    "</table>\n"
   ]
  },
  {
   "cell_type": "code",
   "execution_count": 3,
   "metadata": {},
   "outputs": [
    {
     "name": "stdout",
     "output_type": "stream",
     "text": [
      "The calculated tax for a salary of 25000000 is: 2150000.0\n"
     ]
    }
   ],
   "source": [
    "def calculate_tax(salary):\n",
    "    if salary <= 10_000_000:\n",
    "        return 0\n",
    "    elif 10_000_001 <= salary <= 14_000_000:\n",
    "        taxable_income = salary - 10_000_000\n",
    "        tax = taxable_income * 0.10\n",
    "        return tax\n",
    "    elif 14_000_001 <= salary <= 23_000_000:\n",
    "        taxable_income = salary - 14_000_000\n",
    "        tax = 4_000_000 * 0.1 + taxable_income * 0.15\n",
    "        return tax\n",
    "    elif 23_000_001 <= salary <= 34_000_000:\n",
    "        taxable_income = salary - 23_000_000\n",
    "        tax = 4_000_000 * 0.1 + 9_000_000 * 0.15 + taxable_income * 0.20\n",
    "        return tax\n",
    "    else:\n",
    "        taxable_income = salary - 34_000_000\n",
    "        tax = 4_000_000 * 0.1 + 9_000_000 * 0.15 + 11_000_000 * 0.20 + taxable_income * 0.30\n",
    "        return tax\n",
    "\n",
    "salary = int(input('enter the salary of the employee: '))\n",
    "\n",
    "tax = calculate_tax(salary)\n",
    "\n",
    "print(f'The calculated tax for a salary of {salary} is: {tax}')\n"
   ]
  },
  {
   "cell_type": "markdown",
   "metadata": {},
   "source": [
    "<div dir=\"rtl\" style=\"text-align: right;\">\n",
    "    4-   برنامه اي بنویسید که ضرایب a و b و c از یک معادله درجه ي دوم را گرفته و در مورد تعداد و مقادیر ریشه هایش اطلاعات کاملی به  \n",
    "کاربر بدهد \n",
    "</div>"
   ]
  },
  {
   "cell_type": "code",
   "execution_count": 7,
   "metadata": {},
   "outputs": [
    {
     "name": "stdout",
     "output_type": "stream",
     "text": [
      "The equation has two distinct real roots:\n",
      "Root 1: 1.0\n",
      "Root 2: -0.3333333333333333\n"
     ]
    }
   ],
   "source": [
    "\n",
    "a = float(input(\"Enter coefficient a: \"))\n",
    "b = float(input(\"Enter coefficient b: \"))\n",
    "c = float(input(\"Enter coefficient c: \"))\n",
    "\n",
    "delta = b**2 - 4 * a * c\n",
    "\n",
    "if delta > 0:\n",
    "    # Two distinct real roots\n",
    "    root1 = (-b + delta**0.5) / (2 * a)\n",
    "    root2 = (-b - delta**0.5) / (2 * a)\n",
    "    print(f\"The equation has two distinct real roots:\")\n",
    "    print(f\"Root 1: {root1}\")\n",
    "    print(f\"Root 2: {root2}\")\n",
    "elif delta == 0:\n",
    "    # One real root (double root)\n",
    "    root = -b / (2 * a)\n",
    "    print(f\"The equation has one real double root:\")\n",
    "    print(f\"Root: {root}\")\n",
    "else:\n",
    "    # Two complex roots\n",
    "    print(f\"The equation has two complex roots\")\n"
   ]
  },
  {
   "cell_type": "markdown",
   "metadata": {},
   "source": [
    "<div dir=\"rtl\" style=\"text-align: right;\">\n",
    "    5- برنامه‌ای بنویسید که به خواندن اعداد صحیح از ورودی تا جایی ادامه دهد که مجموع آنها بیشتر از 500 نشده باشد. سپس میانگین آنها را به دست آورید.\n",
    "</div>"
   ]
  },
  {
   "cell_type": "code",
   "execution_count": 11,
   "metadata": {},
   "outputs": [
    {
     "name": "stdout",
     "output_type": "stream",
     "text": [
      "avg of entered numbers is: 167.0\n"
     ]
    }
   ],
   "source": [
    "total_sum = 0\n",
    "count = 0\n",
    "\n",
    "while total_sum <= 500:\n",
    "    number = int(input('enter a number: '))\n",
    "    total_sum += number\n",
    "    count += 1\n",
    "\n",
    "avg = total_sum / count\n",
    "print(f'avg of entered numbers is: {avg}')\n"
   ]
  },
  {
   "cell_type": "markdown",
   "metadata": {},
   "source": [
    "<div dir=\"rtl\" style=\"text-align: right;\">\n",
    "    6- برنامه‌ای بنویسید که تمامی اعداد دو رقمی که هر دو رقم آنها فرد هستند را در خروجی نشان دهد.\n",
    "</div>"
   ]
  },
  {
   "cell_type": "code",
   "execution_count": 13,
   "metadata": {},
   "outputs": [
    {
     "name": "stdout",
     "output_type": "stream",
     "text": [
      "11\n",
      "13\n",
      "15\n",
      "17\n",
      "19\n",
      "31\n",
      "33\n",
      "35\n",
      "37\n",
      "39\n",
      "51\n",
      "53\n",
      "55\n",
      "57\n",
      "59\n",
      "71\n",
      "73\n",
      "75\n",
      "77\n",
      "79\n",
      "91\n",
      "93\n",
      "95\n",
      "97\n",
      "99\n"
     ]
    }
   ],
   "source": [
    "for number in range(10, 100):\n",
    "    tens = number // 10  \n",
    "    ones = number % 10     \n",
    "    if tens % 2 != 0 and ones % 2 != 0:\n",
    "        print(number)\n"
   ]
  },
  {
   "cell_type": "markdown",
   "metadata": {},
   "source": [
    "<div dir=\"rtl\" style=\"text-align: right;\">\n",
    "    7- برنامه‌ای بنویسید که سه رقم عددی که هر سه رقم آن با یکدیگر برابر باشند را مشخص کند.\n",
    "</div>"
   ]
  },
  {
   "cell_type": "code",
   "execution_count": 14,
   "metadata": {},
   "outputs": [
    {
     "name": "stdout",
     "output_type": "stream",
     "text": [
      "111\n",
      "222\n",
      "333\n",
      "444\n",
      "555\n",
      "666\n",
      "777\n",
      "888\n",
      "999\n"
     ]
    }
   ],
   "source": [
    "for number in range(100, 1000):\n",
    "    hundreds = number // 100 \n",
    "    tens = (number // 10) % 10 \n",
    "    ones = number % 10 \n",
    "    if hundreds == tens == ones:\n",
    "        print(number)\n",
    "\n",
    "\n"
   ]
  },
  {
   "cell_type": "code",
   "execution_count": null,
   "metadata": {},
   "outputs": [],
   "source": [
    "number = int(input(\"Enter a four-digit number: \"))\n",
    "\n",
    "thousands = number // 1000 \n",
    "hundreds = (number // 100) % 10  \n",
    "tens = (number // 10) % 10  \n",
    "ones = number % 10  \n",
    "\n",
    "print(f\"Thousands: {thousands}\")\n",
    "print(f\"Hundreds: {hundreds}\")\n",
    "print(f\"Tens: {tens}\")\n",
    "print(f\"Ones: {ones}\")\n"
   ]
  },
  {
   "cell_type": "markdown",
   "metadata": {},
   "source": [
    "<div dir=\"rtl\" style=\"text-align: right;\">\n",
    "    8- برنامه‌ای بنویسید که عددی را از ورودی دریافت کرده و مجموع ارقام آن را در خروجی نمایش دهد.\n",
    "</div>"
   ]
  },
  {
   "cell_type": "code",
   "execution_count": 17,
   "metadata": {},
   "outputs": [
    {
     "name": "stdout",
     "output_type": "stream",
     "text": [
      "Sum of the digits: 11\n"
     ]
    }
   ],
   "source": [
    "number = int(input(\"Enter a number: \"))\n",
    "\n",
    "sum_of_digits = 0\n",
    "\n",
    "while number > 0:\n",
    "    digit = number % 10  # Get the last digit\n",
    "    sum_of_digits += digit\n",
    "    number //= 10  # Remove the last digit\n",
    "\n",
    "print(\"Sum of the digits:\", sum_of_digits)\n"
   ]
  },
  {
   "cell_type": "markdown",
   "metadata": {},
   "source": [
    "<div dir=\"rtl\" style=\"text-align: right;\">\n",
    "    9- برنامه‌ای بنویسید که 10 عدد صحیح را از ورودی دریافت کرده و تعداد ارقام هر یک را در خروجی نمایش دهد.\n",
    "</div>"
   ]
  },
  {
   "cell_type": "code",
   "execution_count": null,
   "metadata": {},
   "outputs": [],
   "source": [
    "for i in range(10):\n",
    "    number = int(input(\"Enter a number: \"))\n",
    "    \n",
    "    digits_count = 0\n",
    "    temp_number = number\n",
    "    \n",
    "\n",
    "    while temp_number > 0:\n",
    "        temp_number //= 10\n",
    "        digits_count += 1\n",
    "    \n",
    "    print(\"Number of digits in\", number, \"is\", digits_count)\n"
   ]
  },
  {
   "cell_type": "markdown",
   "metadata": {},
   "source": [
    "<div dir=\"rtl\" style=\"text-align: right;\">\n",
    "    10- برنامه‌ای بنویسید که به خواندن داده‌های ورودی تا جایی ادامه دهد که عدد وارد شده منفی نباشد.\n",
    "</div>"
   ]
  },
  {
   "cell_type": "code",
   "execution_count": null,
   "metadata": {},
   "outputs": [],
   "source": [
    "\n",
    "while True:\n",
    "    number = int(input(\"Enter a number: \"))\n",
    "    \n",
    "   \n",
    "    if number < 0:\n",
    "        break\n",
    "    \n",
    " \n",
    "    print(\"You entered:\", number)\n"
   ]
  },
  {
   "cell_type": "markdown",
   "metadata": {},
   "source": [
    "<div dir=\"rtl\" style=\"text-align: right;\">\n",
    "    11- برنامه‌ای بنویسید که جدول ضرب 10*10 را ایجاد و در خروجی چاپ کند.\n",
    "</div>"
   ]
  },
  {
   "cell_type": "code",
   "execution_count": 21,
   "metadata": {},
   "outputs": [
    {
     "name": "stdout",
     "output_type": "stream",
     "text": [
      "1\t2\t3\t4\t5\t6\t7\t8\t9\t10\t\n",
      "2\t4\t6\t8\t10\t12\t14\t16\t18\t20\t\n",
      "3\t6\t9\t12\t15\t18\t21\t24\t27\t30\t\n",
      "4\t8\t12\t16\t20\t24\t28\t32\t36\t40\t\n",
      "5\t10\t15\t20\t25\t30\t35\t40\t45\t50\t\n",
      "6\t12\t18\t24\t30\t36\t42\t48\t54\t60\t\n",
      "7\t14\t21\t28\t35\t42\t49\t56\t63\t70\t\n",
      "8\t16\t24\t32\t40\t48\t56\t64\t72\t80\t\n",
      "9\t18\t27\t36\t45\t54\t63\t72\t81\t90\t\n",
      "10\t20\t30\t40\t50\t60\t70\t80\t90\t100\t\n"
     ]
    }
   ],
   "source": [
    "# Loop through rows\n",
    "for i in range(1, 11):\n",
    "    # Loop through columns\n",
    "    for j in range(1, 11):\n",
    "        print(i * j, end='\\t')  # Print product with tab spacing\n",
    "    print()  # New line after each row"
   ]
  },
  {
   "cell_type": "markdown",
   "metadata": {},
   "source": [
    "<div dir=\"rtl\" style=\"text-align: right;\">\n",
    "    12- برنامه‌ای بنویسید که خروجی‌های زیر را تولید کند:\n",
    "</div>"
   ]
  },
  {
   "cell_type": "code",
   "execution_count": 26,
   "metadata": {},
   "outputs": [
    {
     "name": "stdout",
     "output_type": "stream",
     "text": [
      "* \n",
      "* * \n",
      "* * * \n",
      "* * * * \n",
      "* * * * * \n"
     ]
    }
   ],
   "source": [
    "# First pattern\n",
    "n = 5  # Number of rows\n",
    "\n",
    "for i in range(1, n+1):\n",
    "    for j in range(1, i+1):\n",
    "        print(\"*\", end=\" \")\n",
    "    print()  # Move to the next line after each row\n"
   ]
  },
  {
   "cell_type": "code",
   "execution_count": 41,
   "metadata": {},
   "outputs": [
    {
     "name": "stdout",
     "output_type": "stream",
     "text": [
      "        * \n",
      "      * * \n",
      "    * * * \n",
      "  * * * * \n",
      "* * * * * \n"
     ]
    }
   ],
   "source": [
    "n = 5  # Number of rows\n",
    "\n",
    "for i in range(1, n+1):\n",
    "    # Print spaces for alignment\n",
    "    for j in range(n-i):\n",
    "        print(\" \", end=\" \")\n",
    "    # Print stars\n",
    "    for k in range(1, i+1):\n",
    "        print(\"*\", end=\" \")\n",
    "    print()  # Move to the next line after each row\n"
   ]
  },
  {
   "cell_type": "code",
   "execution_count": 8,
   "metadata": {},
   "outputs": [
    {
     "name": "stdout",
     "output_type": "stream",
     "text": [
      "* * * * * \n",
      "* * * * \n",
      "* * * \n",
      "* * \n",
      "* \n"
     ]
    }
   ],
   "source": [
    "# Second pattern\n",
    "n = 5  # Number of rows\n",
    "\n",
    "for i in range(n, 0, -1):\n",
    "    for j in range(1, i+1):\n",
    "        print(\"*\", end=\" \")\n",
    "    print()  # Move to the next line after each row\n"
   ]
  },
  {
   "cell_type": "code",
   "execution_count": 35,
   "metadata": {},
   "outputs": [
    {
     "name": "stdout",
     "output_type": "stream",
     "text": [
      "* * * * * \n",
      "  * * * * \n",
      "    * * * \n",
      "      * * \n",
      "        * \n"
     ]
    }
   ],
   "source": [
    "n = 5  # Number of rows\n",
    "\n",
    "for i in range(n, 0, -1):  # Start from n and decrease to 1\n",
    "    for j in range(1, n-i+1):\n",
    "        print(\" \", end=\" \")  # Print spaces for alignment\n",
    "    for k in range(1, i+1):\n",
    "        print(\"*\", end=\" \")\n",
    "    print()  # Move to the next line after each row\n",
    "\n"
   ]
  },
  {
   "cell_type": "code",
   "execution_count": 34,
   "metadata": {},
   "outputs": [
    {
     "name": "stdout",
     "output_type": "stream",
     "text": [
      "        * \n",
      "      * * * \n",
      "    * * * * * \n",
      "  * * * * * * * \n",
      "* * * * * * * * * \n"
     ]
    }
   ],
   "source": [
    "# Third pattern\n",
    "n = 5  # Number of rows\n",
    "\n",
    "for i in range(1, n+1):\n",
    "    # Print spaces for alignment\n",
    "    for j in range(n-i):\n",
    "        print(\" \", end=\" \")\n",
    "    # Print stars\n",
    "    for k in range(2*i-1):\n",
    "        print(\"*\", end=\" \")\n",
    "    print()  # Move to the next line after each row\n",
    "\n",
    "\n"
   ]
  },
  {
   "cell_type": "code",
   "execution_count": 29,
   "metadata": {},
   "outputs": [
    {
     "name": "stdout",
     "output_type": "stream",
     "text": [
      "        * \n",
      "      * * * \n",
      "    * * * * * \n",
      "  * * * * * * * \n",
      "* * * * * * * * * \n",
      "  * * * * * * * \n",
      "    * * * * * \n",
      "      * * * \n",
      "        * \n"
     ]
    }
   ],
   "source": [
    "# Forth pattern\n",
    "n = 5  # Number of rows\n",
    "\n",
    "# Upper part of the diamond\n",
    "for i in range(1, n+1):\n",
    "    # Print spaces for alignment\n",
    "    for j in range(n-i):\n",
    "        print(\" \", end=\" \")\n",
    "    # Print stars\n",
    "    for k in range(2*i-1):\n",
    "        print(\"*\", end=\" \")\n",
    "    print()  # Move to the next line after each row\n",
    "\n",
    "# Lower part of the diamond\n",
    "for i in range(n-1, 0, -1):  # Start from n-1 and decrease to 1\n",
    "    # Print spaces for alignment\n",
    "    for j in range(n-i):\n",
    "        print(\" \", end=\" \")\n",
    "    # Print stars\n",
    "    for k in range(2*i-1):\n",
    "        print(\"*\", end=\" \")\n",
    "    print()  # Move to the next line after each row\n"
   ]
  },
  {
   "cell_type": "markdown",
   "metadata": {},
   "source": [
    "<div dir=\"rtl\" style=\"text-align: right;\">\n",
    "    13- برنامه ای بنویسید که مجموع 10  جمله اول سری روبرو را محاسبه کند: 1, 4, 8, 13, ...\n",
    "</div>"
   ]
  },
  {
   "cell_type": "code",
   "execution_count": 48,
   "metadata": {},
   "outputs": [
    {
     "name": "stdout",
     "output_type": "stream",
     "text": [
      "1 4 8 13 19 26 34 43 53 64 \n",
      "Sum of the sequence is: 265\n"
     ]
    }
   ],
   "source": [
    "# Initialize variables\n",
    "start = 1\n",
    "step = 3\n",
    "sum = 0\n",
    "\n",
    "# Loop to generate the sequence\n",
    "for i in range(10):  # Generate 10 numbers\n",
    "    print(start, end=' ')\n",
    "    sum += start  # Add the current number to the sum\n",
    "    start += step  # Increase the current number by the step\n",
    "    step += 1  # Increment the step for the next number\n",
    "\n",
    "print(\"\\nSum of the sequence is:\", sum)\n"
   ]
  },
  {
   "cell_type": "markdown",
   "metadata": {},
   "source": [
    "<div dir=\"rtl\" style=\"text-align: right;\">\n",
    "    14- برنامه‌ای بنویسید که عددی از ورودی دریافت کند و سری فیبوناچی قبل از آن را تولید و در خروجی چاپ کند.\n",
    "</div>"
   ]
  },
  {
   "cell_type": "code",
   "execution_count": 43,
   "metadata": {},
   "outputs": [
    {
     "name": "stdout",
     "output_type": "stream",
     "text": [
      "0 1 1 2 3 5 8 "
     ]
    }
   ],
   "source": [
    "# Input number from user\n",
    "n = int(input(\"Enter a number: \"))\n",
    "\n",
    "# Initialize Fibonacci sequence\n",
    "a, b = 0, 1\n",
    "\n",
    "# Loop to generate the Fibonacci sequence\n",
    "while a < n:\n",
    "    print(a, end=' ')\n",
    "    a, b = b, a + b  # Update values"
   ]
  },
  {
   "cell_type": "markdown",
   "metadata": {},
   "source": [
    "<div dir=\"rtl\" style=\"text-align: right;\">\n",
    "    15- برنامه‌ای بنویسید که طول سه ضلع یک مثلث را گرفته و مشخص کند آیا این مثلث قائم الزاویه است یا خیر.\n",
    "</div>"
   ]
  },
  {
   "cell_type": "code",
   "execution_count": 50,
   "metadata": {},
   "outputs": [
    {
     "name": "stdout",
     "output_type": "stream",
     "text": [
      "The triangle is a right triangle (قائم الزاویه).\n"
     ]
    }
   ],
   "source": [
    "a = float(input(\"Enter the length of the first side: \"))\n",
    "b = float(input(\"Enter the length of the second side: \"))\n",
    "c = float(input(\"Enter the length of the third side: \"))\n",
    "\n",
    "if a + b > c and a + c > b and b + c > a:\n",
    "    \n",
    "    if a == b == c:\n",
    "        print(\"The triangle is equilateral (متساوی‌الاضلاع).\")\n",
    "    elif a == b or a == c or b == c:\n",
    "        print(\"The triangle is isosceles (متساوی‌الساقین).\")\n",
    "    elif a**2 + b**2 == c**2 or a**2 + c**2 == b**2 or b**2 + c**2 == a**2:\n",
    "        print(\"The triangle is a right triangle (قائم الزاویه).\")\n",
    "    else:\n",
    "        print(\"The triangle is scalene (مختلف‌الاضلاع).\")\n",
    "else:\n",
    "    print(\"The sides do not form a valid triangle.\")\n"
   ]
  },
  {
   "cell_type": "markdown",
   "metadata": {},
   "source": [
    "<div dir=\"rtl\" style=\"text-align: right;\">\n",
    "    16- برنامه‌ای بنویسید که طول سه ضلع یک مثلث را گرفته، اگر آن مثلث قائم الزاویه است مساحت و محیط آن را محاسبه کرده و نمایش دهد.\n",
    "</div>"
   ]
  },
  {
   "cell_type": "code",
   "execution_count": null,
   "metadata": {},
   "outputs": [],
   "source": [
    "# Input the lengths of the sides from the user\n",
    "a = float(input(\"Enter the length of the first side: \"))\n",
    "b = float(input(\"Enter the length of the second side: \"))\n",
    "c = float(input(\"Enter the length of the third side: \"))\n",
    "\n",
    "# Ensure the largest side is treated as the hypotenuse\n",
    "if a > c and a > b:\n",
    "    a, c = c, a  # Swap a with c if a is the largest\n",
    "elif b > c and b > a:\n",
    "    b, c = c, b  # Swap b with c if b is the largest\n",
    "\n",
    "# Check if the triangle is right-angled using Pythagoras' theorem\n",
    "if round(a**2 + b**2, 5) == round(c**2, 5):\n",
    "    # Calculate the area and perimeter of the right-angled triangle\n",
    "    area = 0.5 * a * b\n",
    "    perimeter = a + b + c\n",
    " \n",
    "    # Display the results\n",
    "    print(\"The triangle is a right-angled triangle.\")\n",
    "    print(f\"Area of the triangle: {area}\")\n",
    "    print(f\"Perimeter of the triangle: {perimeter}\")\n",
    "else:\n",
    "    print(\"The triangle is not a right-angled triangle.\")\n"
   ]
  },
  {
   "cell_type": "markdown",
   "metadata": {},
   "source": [
    "<div dir=\"rtl\" style=\"text-align: right;\">\n",
    "    17- برنامه‌ای بنویسید که یک عدد را از کاربر دریافت کند و مشخص کند عدد کامل است یا خیر.\n",
    "</div>"
   ]
  },
  {
   "cell_type": "code",
   "execution_count": null,
   "metadata": {},
   "outputs": [],
   "source": [
    "# Input number from user\n",
    "n = int(input(\"Enter a number: \"))\n",
    "\n",
    "# Calculate the sum of divisors\n",
    "sum_of_divisors = 0\n",
    "for i in range(1, n):\n",
    "    if n % i == 0:\n",
    "        sum_of_divisors += i\n",
    "\n",
    "# Check if the number is perfect\n",
    "if sum_of_divisors == n:\n",
    "    print(n, \"is a perfect number.\")\n",
    "else:\n",
    "    print(n, \"is not a perfect number.\")"
   ]
  },
  {
   "cell_type": "markdown",
   "metadata": {},
   "source": [
    "<div dir=\"rtl\" style=\"text-align: right;\">\n",
    "    18- برنامه‌ای بنویسید که یک عدد را از کاربر دریافت کند و مشخص کند عدد اول است یا خیر.\n",
    "</div>"
   ]
  },
  {
   "cell_type": "code",
   "execution_count": null,
   "metadata": {},
   "outputs": [],
   "source": [
    "# Input number from user\n",
    "n = int(input(\"Enter a number: \"))\n",
    "\n",
    "# Check if number is prime\n",
    "is_prime = True\n",
    "if n < 2:\n",
    "    is_prime = False\n",
    "else:\n",
    "    for i in range(2, n):\n",
    "        if n % i == 0:\n",
    "            is_prime = False\n",
    "            break\n",
    "\n",
    "# Output the result\n",
    "if is_prime:\n",
    "    print(n, \"is a prime number.\")\n",
    "else:\n",
    "    print(n, \"is not a prime number.\")"
   ]
  },
  {
   "cell_type": "markdown",
   "metadata": {},
   "source": [
    "<div dir=\"rtl\" style=\"text-align: right;\">\n",
    "    19- برنامه‌ای بنویسید که تعداد اعداد کامل کمتر از 100 را مشخص کند.\n",
    "</div>"
   ]
  },
  {
   "cell_type": "code",
   "execution_count": 3,
   "metadata": {},
   "outputs": [
    {
     "name": "stdout",
     "output_type": "stream",
     "text": [
      "6 is a perfect number.\n",
      "28 is a perfect number.\n"
     ]
    }
   ],
   "source": [
    "# Function to check if a number is perfect\n",
    "def is_perfect(n):\n",
    "    sum_of_divisors = 0\n",
    "    for i in range(1, n):\n",
    "        if n % i == 0:\n",
    "            sum_of_divisors += i\n",
    "    return sum_of_divisors == n\n",
    "\n",
    "# Loop to find perfect numbers below 100\n",
    "for i in range(1, 100):\n",
    "    if is_perfect(i) == True:\n",
    "        print(i, \"is a perfect number.\")"
   ]
  },
  {
   "cell_type": "markdown",
   "metadata": {},
   "source": [
    "<div dir=\"rtl\" style=\"text-align: right;\">\n",
    "    20- برنامه‌ای بنویسید که اعداد اول مابین 100 تا 200 را پیدا کند.\n",
    "</div>"
   ]
  },
  {
   "cell_type": "code",
   "execution_count": null,
   "metadata": {},
   "outputs": [],
   "source": [
    "# Function to check if a number is prime\n",
    "def is_prime(n):\n",
    "    if n < 2:\n",
    "        return False\n",
    "    for i in range(2, n):\n",
    "        if n % i == 0:\n",
    "            return False\n",
    "    return True\n",
    "\n",
    "# Loop to find prime numbers between 100 and 200\n",
    "for i in range(100, 201):\n",
    "    if is_prime(i):\n",
    "        print(i, \"is a prime number.\")"
   ]
  },
  {
   "cell_type": "markdown",
   "metadata": {},
   "source": [
    "<div dir=\"rtl\" style=\"text-align: right;\">\n",
    "    21- برنامه‌ای بنویسید که بزرگترین مقسوم علیه مشترک و کوچکترین مضرب مشترک دو عدد را پیدا کند.\n",
    "</div>"
   ]
  },
  {
   "cell_type": "code",
   "execution_count": null,
   "metadata": {},
   "outputs": [],
   "source": [
    "# Function to find GCD (Greatest Common Divisor)\n",
    "def gcd(a, b):\n",
    "    while b:\n",
    "        a, b = b, a % b\n",
    "    return a\n",
    "\n",
    "# Function to find LCM (Least Common Multiple)\n",
    "def lcm(a, b):\n",
    "    return a * b // gcd(a, b)\n",
    "\n",
    "# Input two numbers from the user\n",
    "a = int(input(\"Enter the first number: \"))\n",
    "b = int(input(\"Enter the second number: \"))\n",
    "\n",
    "# Calculate GCD and LCM\n",
    "gcd_value = gcd(a, b)\n",
    "lcm_value = lcm(a, b)\n",
    "\n",
    "# Output the results\n",
    "print(\"GCD:\", gcd_value)\n",
    "print(\"LCM:\", lcm_value)"
   ]
  },
  {
   "cell_type": "markdown",
   "metadata": {},
   "source": [
    "<div dir=\"rtl\" style=\"text-align: right;\">\n",
    "    22-  برنامه ای بنویسید که بزرگترین مقسوم علیه مشترک عناصر داخل آرایه را پیدا کند. \n",
    "</div>"
   ]
  },
  {
   "cell_type": "code",
   "execution_count": null,
   "metadata": {},
   "outputs": [],
   "source": [
    "# Function to find GCD of two numbers using Euclid's algorithm\n",
    "def gcd(a, b):\n",
    "    while b:\n",
    "        a, b = b, a % b\n",
    "    return a\n",
    "\n",
    "# Function to calculate GCD of an array of numbers\n",
    "def find_gcd_of_array(arr):\n",
    "    gcd_result = arr[0]  # Start with the first element of the array\n",
    "    for num in arr[1:]:  # Iterate over the rest of the elements\n",
    "        gcd_result = gcd(gcd_result, num)  # Update the GCD with each element\n",
    "        if gcd_result == 1:  # If GCD becomes 1, stop further computation\n",
    "            break\n",
    "    return gcd_result\n",
    "\n",
    "# Input: list of numbers from the user\n",
    "arr = list(map(int, input(\"Enter the array elements separated by space: \").split()))\n",
    "\n",
    "# Calculate GCD of the array\n",
    "gcd_value = find_gcd_of_array(arr)\n",
    "\n",
    "# Output the result\n",
    "print(\"The GCD of the array is:\", gcd_value)\n"
   ]
  },
  {
   "attachments": {
    "image.png": {
     "image/png": "[encoded data removed]"
    }
   },
   "cell_type": "markdown",
   "metadata": {},
   "source": [
    "![image.png](attachment:image.png)"
   ]
  },
  {
   "cell_type": "code",
   "execution_count": 4,
   "metadata": {},
   "outputs": [
    {
     "name": "stdout",
     "output_type": "stream",
     "text": [
      "The sum of the first 10 terms of the series is: 1.4644841269841269\n"
     ]
    }
   ],
   "source": [
    "# Initialize variables\n",
    "n_terms = 10  # Number of terms to sum\n",
    "sum_of_series = 0  # Variable to store the sum of the series\n",
    "\n",
    "# Calculate the sum of the first 10 terms of the series\n",
    "for i in range(1, n_terms + 1):\n",
    "    sum_of_series += 1 / (2 * i)  # Add each term to the sum\n",
    "\n",
    "# Display the result\n",
    "print(f\"The sum of the first {n_terms} terms of the series is:\", sum_of_series)\n"
   ]
  },
  {
   "attachments": {
    "image.png": {
     "image/png": "[encoded data removed]"
    }
   },
   "cell_type": "markdown",
   "metadata": {},
   "source": [
    "![image.png](attachment:image.png)"
   ]
  },
  {
   "cell_type": "code",
   "execution_count": null,
   "metadata": {},
   "outputs": [],
   "source": [
    "# Input the value of x from the user\n",
    "x = float(input(\"Enter the value of x: \"))\n",
    "\n",
    "# Initialize variables\n",
    "n_terms = 10  # Number of terms to sum\n",
    "sum_of_series = 0  # Variable to store the sum of the series\n",
    "\n",
    "# Calculate the sum of the first 10 terms of the series\n",
    "for i in range(1, n_terms + 1):\n",
    "    term = ((-1) ** (i + 1)) * (x ** i) / i  # Calculate each term\n",
    "    sum_of_series += term  # Add the term to the sum\n",
    "\n",
    "# Display the result\n",
    "print(f\"The sum of the first {n_terms} terms of the series is:\", sum_of_series)\n"
   ]
  }
 ],
 "metadata": {
  "kernelspec": {
   "display_name": "Python 3",
   "language": "python",
   "name": "python3"
  },
  "language_info": {
   "codemirror_mode": {
    "name": "ipython",
    "version": 3
   },
   "file_extension": ".py",
   "mimetype": "text/x-python",
   "name": "python",
   "nbconvert_exporter": "python",
   "pygments_lexer": "ipython3",
   "version": "3.12.6"
  }
 },
 "nbformat": 4,
 "nbformat_minor": 2
}
