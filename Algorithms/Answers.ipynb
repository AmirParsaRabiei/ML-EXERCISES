{
 "cells": [
  {
   "cell_type": "markdown",
   "metadata": {},
   "source": [
    "<div dir=\"rtl\" style=\"text-align: right;\">\n",
    "    1-  برنامه ای بنویسید که ده عدد صحیح را از ورودی دریافت کرده، میانگین اعداد زوج خوانده شده  را در خروجی نمایش دهد\n",
    "</div>\n"
   ]
  },
  {
   "cell_type": "code",
   "execution_count": 6,
   "metadata": {},
   "outputs": [
    {
     "name": "stdout",
     "output_type": "stream",
     "text": [
      "Average of even numbers = 4.8\n"
     ]
    }
   ],
   "source": [
    "even_sum = 0\n",
    "even_count = 0\n",
    "\n",
    "for i in range(10):\n",
    "    num = int(input(f'enter number {i+1}: '))\n",
    "\n",
    "    if num % 2 == 0:\n",
    "        even_sum += num\n",
    "        even_count += 1\n",
    "\n",
    "if even_count > 0:\n",
    "    even_avg = even_sum / even_count\n",
    "    print(f'Average of even numbers = {even_avg}')\n",
    "else:\n",
    "    print('There are no even numbers')\n"
   ]
  },
  {
   "cell_type": "markdown",
   "metadata": {},
   "source": [
    "<div dir=\"rtl\" style=\"text-align: right;\">\n",
    "    2-   برنامه ای که با دریافت مقدار x از ورودی، مقدار  y را با توجه به تابع چندضابطه ای زیر محاسبه نماید\n",
    "</div>"
   ]
  },
  {
   "cell_type": "markdown",
   "metadata": {},
   "source": [
    "<div style=\"text-align: left;\">\n",
    "    <math xmlns=\"http://www.w3.org/1998/Math/MathML\">\n",
    "        <mfenced open=\"{\" close=\"\">\n",
    "            <mtable>\n",
    "                <mtr>\n",
    "                    <mtd>\n",
    "                        <mrow>\n",
    "                            <mn>2</mn><msup><mi>x</mi><mn>2</mn></msup>\n",
    "                            <mo>-</mo>\n",
    "                            <mn>3</mn><mi>x</mi>\n",
    "                            <mo>+</mo><mn>1</mn>\n",
    "                        </mrow>\n",
    "                    </mtd>\n",
    "                    <mtd>\n",
    "                        <mo>x&lt;0</mo>\n",
    "                    </mtd>\n",
    "                </mtr>\n",
    "                <mtr>\n",
    "                    <mtd>\n",
    "                        <mn>3</mn>\n",
    "                    </mtd>\n",
    "                    <mtd>\n",
    "                        <mo>x=0</mo>\n",
    "                    </mtd>\n",
    "                </mtr>\n",
    "                <mtr>\n",
    "                    <mtd>\n",
    "                        <mrow>\n",
    "                            <mo>(</mo>\n",
    "                            <mn>2</mn><mi>x</mi><mo>+</mo><mn>4</mn>\n",
    "                            <mo>)</mo>\n",
    "                            <mo>(</mo>\n",
    "                            <mn>2</mn><mi>x</mi><mo>-</mo><mn>5</mn><mo>)</mo>\n",
    "                        </mrow>\n",
    "                    </mtd>\n",
    "                    <mtd>\n",
    "                        <mo>x&gt;0</mo>\n",
    "                    </mtd>\n",
    "                </mtr>\n",
    "            </mtable>\n",
    "        </mfenced>\n",
    "    </math>\n",
    "</div>\n"
   ]
  },
  {
   "cell_type": "code",
   "execution_count": 7,
   "metadata": {},
   "outputs": [
    {
     "name": "stdout",
     "output_type": "stream",
     "text": [
      "for your x:-5.0, y = 66.0\n"
     ]
    }
   ],
   "source": [
    "x = float(input('enter x : '))\n",
    "\n",
    "if x < 0:\n",
    "    y = 2 * x**2 - 3 * x +1\n",
    "elif x == 0:\n",
    "    y = 3\n",
    "else:\n",
    "    y = (2 * x + 4) * (2 * x -5)\n",
    "\n",
    "print(f'for your x:{x}, y = {y}')"
   ]
  },
  {
   "cell_type": "markdown",
   "metadata": {},
   "source": [
    "<div dir=\"rtl\" style=\"text-align: right;\">\n",
    "    3-    حقوق کارمند را از ور ودی دریافت نموده و مالیات را براساس جدول زیر مشخص کنید  \n",
    "</div>"
   ]
  },
  {
   "cell_type": "markdown",
   "metadata": {},
   "source": [
    "<h2 style=\"text-align: center;\">جدول مالیات حقوق ماهیانه سال ۱۴۰۲</h2>\n",
    "\n",
    "<table style=\"width:100%; border-collapse: collapse; direction: rtl; text-align: center;\" border=\"1\">\n",
    "    <thead>\n",
    "        <tr>\n",
    "            <th style=\"background-color: yellow; color: black;\">پایه</th>\n",
    "            <th style=\"background-color: yellow; color: black;\">از</th>\n",
    "            <th style=\"background-color: yellow; color: black;\">تا</th>\n",
    "            <th style=\"background-color: yellow; color: black;\">حقوق مشمول مالیات</th>\n",
    "            <th style=\"background-color: yellow; color: black;\">نرخ</th>\n",
    "            <th style=\"background-color: yellow; color: black;\">مالیات متعلق</th>\n",
    "            <th style=\"background-color: yellow; color: black;\">مالیات تجمیعی</th>\n",
    "        </tr>\n",
    "    </thead>\n",
    "    <tbody>\n",
    "        <tr>\n",
    "            <td>اول</td>\n",
    "            <td>-</td>\n",
    "            <td>۱۰,۰۰۰,۰۰۰</td>\n",
    "            <td>-</td>\n",
    "            <td>-</td>\n",
    "            <td>-</td>\n",
    "            <td>-</td>\n",
    "        </tr>\n",
    "        <tr>\n",
    "            <td>دوم</td>\n",
    "            <td>۱۰,۰۰۰,۰۰۱</td>\n",
    "            <td>۱۴,۰۰۰,۰۰۰</td>\n",
    "            <td>۴,۰۰۰,۰۰۰</td>\n",
    "            <td>۱۰٪</td>\n",
    "            <td>۴۰۰,۰۰۰</td>\n",
    "            <td>۴۰۰,۰۰۰</td>\n",
    "        </tr>\n",
    "        <tr>\n",
    "            <td>سوم</td>\n",
    "            <td>۱۴,۰۰۰,۰۰۱</td>\n",
    "            <td>۲۳,۰۰۰,۰۰۰</td>\n",
    "            <td>۹,۰۰۰,۰۰۰</td>\n",
    "            <td>۱۵٪</td>\n",
    "            <td>۱,۳۵۰,۰۰۰</td>\n",
    "            <td>۱,۷۵۰,۰۰۰</td>\n",
    "        </tr>\n",
    "        <tr>\n",
    "            <td>چهارم</td>\n",
    "            <td>۲۳,۰۰۰,۰۰۱</td>\n",
    "            <td>۳۴,۰۰۰,۰۰۰</td>\n",
    "            <td>۱۱,۰۰۰,۰۰۰</td>\n",
    "            <td>۲۰٪</td>\n",
    "            <td>۲,۲۰۰,۰۰۰</td>\n",
    "            <td>۳,۹۵۰,۰۰۰</td>\n",
    "        </tr>\n",
    "        <tr>\n",
    "            <td>پنجم</td>\n",
    "            <td>۳۴,۰۰۰,۰۰۱</td>\n",
    "            <td>بیشتر</td>\n",
    "            <td>-</td>\n",
    "            <td>۲۵٪</td>\n",
    "            <td>x</td>\n",
    "            <td>۳,۹۵۰,۰۰۰ + x</td>\n",
    "        </tr>\n",
    "    </tbody>\n",
    "</table>\n"
   ]
  },
  {
   "cell_type": "code",
   "execution_count": 1,
   "metadata": {},
   "outputs": [
    {
     "name": "stdout",
     "output_type": "stream",
     "text": [
      "میزان مالیات برای حقوق 11,000,000 ریال:\n",
      " - مالیات برای بخش اول (از 10,000,001 تا 14,000,000 ریال): 100,000 ریال\n",
      "مجموع مالیات تجمیعی: 100,000 ریال\n"
     ]
    }
   ],
   "source": [
    "# Get salary input from the user\n",
    "salary = float(input(\"Please enter the employee's salary: \"))\n",
    "\n",
    "# Initialize tax variables for each section\n",
    "tax1 = tax2 = tax3 = tax4 = 0\n",
    "\n",
    "# Calculate tax based on the table\n",
    "if salary <= 10000000:\n",
    "    tax = 0  # No tax for salary <= 10,000,000\n",
    "elif salary <= 14000000:\n",
    "    taxable_income = salary - 10000000\n",
    "    tax1 = taxable_income * 0.10  # 10% tax for the first section\n",
    "elif salary <= 23000000:\n",
    "    tax1 = 4000000 * 0.10  # 10% for the first 4,000,000\n",
    "    taxable_income = salary - 14000000\n",
    "    tax2 = taxable_income * 0.15  # 15% tax for the second section\n",
    "elif salary <= 34000000:\n",
    "    tax1 = 4000000 * 0.10  # 10% for the first 4,000,000\n",
    "    tax2 = 9000000 * 0.15  # 15% for the next 9,000,000\n",
    "    taxable_income = salary - 23000000\n",
    "    tax3 = taxable_income * 0.20  # 20% tax for the third section\n",
    "else:\n",
    "    tax1 = 4000000 * 0.10  # 10% for the first 4,000,000\n",
    "    tax2 = 9000000 * 0.15  # 15% for the next 9,000,000\n",
    "    tax3 = 11000000 * 0.20  # 20% for the next 11,000,000\n",
    "    taxable_income = salary - 34000000\n",
    "    tax4 = taxable_income * 0.25  # 25% tax for the fourth section\n",
    "\n",
    "# Calculate total tax (sum of all sections)\n",
    "total_tax = tax1 + tax2 + tax3 + tax4\n",
    "\n",
    "# Display tax for each section and the total tax\n",
    "print(f\"Tax for a salary of {salary:,.0f} Rials:\")\n",
    "if tax1 > 0:\n",
    "    print(f\" - Tax for the first section (10,000,001 to 14,000,000 Rials): {tax1:,.0f} Rials\")\n",
    "if tax2 > 0:\n",
    "    print(f\" - Tax for the second section (14,000,001 to 23,000,000 Rials): {tax2:,.0f} Rials\")\n",
    "if tax3 > 0:\n",
    "    print(f\" - Tax for the third section (23,000,001 to 34,000,000 Rials): {tax3:,.0f} Rials\")\n",
    "if tax4 > 0:\n",
    "    print(f\" - Tax for the fourth section (more than 34,000,001 Rials): {tax4:,.0f} Rials\")\n",
    "\n",
    "print(f\"Total cumulative tax: {total_tax:,.0f} Rials\")\n"
   ]
  },
  {
   "cell_type": "markdown",
   "metadata": {},
   "source": [
    "<div dir=\"rtl\" style=\"text-align: right;\">\n",
    "    4-   برنامه اي بنویسید که ضرایب a و b و c از یک معادله درجه ي دوم را گرفته و در مورد تعداد و مقادیر ریشه هایش اطلاعات کاملی به  \n",
    "کاربر بدهد \n",
    "</div>"
   ]
  },
  {
   "cell_type": "code",
   "execution_count": null,
   "metadata": {},
   "outputs": [],
   "source": [
    "# Get coefficients a, b, c from the user\n",
    "a = float(input(\"Enter coefficient a: \"))\n",
    "b = float(input(\"Enter coefficient b: \"))\n",
    "c = float(input(\"Enter coefficient c: \"))\n",
    "\n",
    "# Calculate the discriminant (b^2 - 4ac)\n",
    "delta = b**2 - 4 * a * c\n",
    "\n",
    "# Check the value of delta and calculate the roots\n",
    "if delta > 0:\n",
    "    # Two distinct real roots\n",
    "    root1 = (-b + delta**0.5) / (2 * a)\n",
    "    root2 = (-b - delta**0.5) / (2 * a)\n",
    "    print(f\"The equation has two distinct real roots:\")\n",
    "    print(f\"Root 1: {root1}\")\n",
    "    print(f\"Root 2: {root2}\")\n",
    "elif delta == 0:\n",
    "    # One real root (double root)\n",
    "    root = -b / (2 * a)\n",
    "    print(f\"The equation has one real double root:\")\n",
    "    print(f\"Root: {root}\")\n",
    "else:\n",
    "    # Two complex roots\n",
    "    real_part = -b / (2 * a)\n",
    "    imaginary_part = (-delta)**0.5 / (2 * a)  # Calculating imaginary part\n",
    "    print(f\"The equation has two complex roots:\")\n",
    "    print(f\"Root 1: {real_part} + {imaginary_part}i\")\n",
    "    print(f\"Root 2: {real_part} - {imaginary_part}i\")\n"
   ]
  },
  {
   "cell_type": "markdown",
   "metadata": {},
   "source": [
    "<div dir=\"rtl\" style=\"text-align: right;\">\n",
    "    5- برنامه‌ای بنویسید که به خواندن اعداد صحیح از ورودی تا جایی ادامه دهد که مجموع آنها بیشتر از 500 نشده باشد. سپس میانگین آنها را به دست آورید.\n",
    "</div>"
   ]
  },
  {
   "cell_type": "code",
   "execution_count": null,
   "metadata": {},
   "outputs": [],
   "source": [
    "# Initialize variables\n",
    "total_sum = 0\n",
    "count = 0\n",
    "\n",
    "# Loop until the sum exceeds 500\n",
    "while total_sum <= 500:\n",
    "    number = int(input(\"Enter a number: \"))\n",
    "    total_sum += number\n",
    "    count += 1\n",
    "\n",
    "# Calculate the average\n",
    "average = total_sum / count\n",
    "\n",
    "# Output the result\n",
    "print(\"Average of entered numbers:\", average)\n"
   ]
  },
  {
   "cell_type": "markdown",
   "metadata": {},
   "source": [
    "<div dir=\"rtl\" style=\"text-align: right;\">\n",
    "    6- برنامه‌ای بنویسید که تمامی اعداد دو رقمی که هر دو رقم آنها فرد هستند را در خروجی نشان دهد.\n",
    "</div>"
   ]
  },
  {
   "cell_type": "code",
   "execution_count": null,
   "metadata": {},
   "outputs": [],
   "source": [
    "# Loop through all two-digit numbers\n",
    "for number in range(10, 100):\n",
    "    tens = number // 10  # Get the tens digit\n",
    "    ones = number % 10   # Get the ones digit\n",
    "    \n",
    "    # Check if both digits are odd\n",
    "    if tens % 2 != 0 and ones % 2 != 0:\n",
    "        print(number)\n"
   ]
  },
  {
   "cell_type": "markdown",
   "metadata": {},
   "source": [
    "<div dir=\"rtl\" style=\"text-align: right;\">\n",
    "    7- برنامه‌ای بنویسید که سه رقم عددی که هر سه رقم آن با یکدیگر برابر باشند را مشخص کند.\n",
    "</div>"
   ]
  },
  {
   "cell_type": "code",
   "execution_count": null,
   "metadata": {},
   "outputs": [],
   "source": [
    "# Loop through all three-digit numbers\n",
    "for number in range(100, 1000):\n",
    "    hundreds = number // 100  # Get the hundreds digit\n",
    "    tens = (number // 10) % 10  # Get the tens digit\n",
    "    ones = number % 10  # Get the ones digit\n",
    "    \n",
    "    # Check if all digits are the same\n",
    "    if hundreds == tens == ones:\n",
    "        print(number)\n"
   ]
  },
  {
   "cell_type": "markdown",
   "metadata": {},
   "source": [
    "<div dir=\"rtl\" style=\"text-align: right;\">\n",
    "    8- برنامه‌ای بنویسید که عددی را از ورودی دریافت کرده و مجموع ارقام آن را در خروجی نمایش دهد.\n",
    "</div>"
   ]
  },
  {
   "cell_type": "code",
   "execution_count": null,
   "metadata": {},
   "outputs": [],
   "source": [
    "# Input number from the user\n",
    "number = int(input(\"Enter a number: \"))\n",
    "\n",
    "# Initialize sum of digits\n",
    "sum_of_digits = 0\n",
    "\n",
    "# Calculate the sum of digits\n",
    "while number > 0:\n",
    "    digit = number % 10  # Get the last digit\n",
    "    sum_of_digits += digit\n",
    "    number //= 10  # Remove the last digit\n",
    "\n",
    "# Output the result\n",
    "print(\"Sum of the digits:\", sum_of_digits)\n"
   ]
  },
  {
   "cell_type": "markdown",
   "metadata": {},
   "source": [
    "<div dir=\"rtl\" style=\"text-align: right;\">\n",
    "    9- برنامه‌ای بنویسید که 10 عدد صحیح را از ورودی دریافت کرده و تعداد ارقام هر یک را در خروجی نمایش دهد.\n",
    "</div>"
   ]
  },
  {
   "cell_type": "code",
   "execution_count": null,
   "metadata": {},
   "outputs": [],
   "source": [
    "# Loop to get 10 numbers\n",
    "for i in range(10):\n",
    "    number = int(input(\"Enter a number: \"))\n",
    "    \n",
    "    # Initialize a counter for digits\n",
    "    digits_count = 0\n",
    "    temp_number = number\n",
    "    \n",
    "    # Count the digits in the number\n",
    "    while temp_number > 0:\n",
    "        temp_number //= 10\n",
    "        digits_count += 1\n",
    "    \n",
    "    # Output the number of digits\n",
    "    print(\"Number of digits in\", number, \"is\", digits_count)\n"
   ]
  },
  {
   "cell_type": "markdown",
   "metadata": {},
   "source": [
    "<div dir=\"rtl\" style=\"text-align: right;\">\n",
    "    10- برنامه‌ای بنویسید که به خواندن داده‌های ورودی تا جایی ادامه دهد که عدد وارد شده منفی نباشد.\n",
    "</div>"
   ]
  },
  {
   "cell_type": "code",
   "execution_count": null,
   "metadata": {},
   "outputs": [],
   "source": [
    "# Loop until a negative number is entered\n",
    "while True:\n",
    "    number = int(input(\"Enter a number: \"))\n",
    "    \n",
    "    # Break the loop if the number is negative\n",
    "    if number < 0:\n",
    "        break\n",
    "    \n",
    "    # Print the positive number\n",
    "    print(\"You entered:\", number)\n"
   ]
  },
  {
   "cell_type": "markdown",
   "metadata": {},
   "source": [
    "<div dir=\"rtl\" style=\"text-align: right;\">\n",
    "    11- برنامه‌ای بنویسید که جدول ضرب 10*10 را ایجاد و در خروجی چاپ کند.\n",
    "</div>"
   ]
  },
  {
   "cell_type": "code",
   "execution_count": null,
   "metadata": {},
   "outputs": [],
   "source": [
    "# Loop through rows\n",
    "for i in range(1, 11):\n",
    "    # Loop through columns\n",
    "    for j in range(1, 11):\n",
    "        print(i * j, end='\\t')  # Print product with tab spacing\n",
    "    print()  # New line after each row"
   ]
  },
  {
   "cell_type": "markdown",
   "metadata": {},
   "source": [
    "<div dir=\"rtl\" style=\"text-align: right;\">\n",
    "    12- برنامه‌ای بنویسید که خروجی‌های زیر را تولید کند: 1, 4, 8, 13, ...\n",
    "</div>"
   ]
  },
  {
   "cell_type": "code",
   "execution_count": 7,
   "metadata": {},
   "outputs": [
    {
     "name": "stdout",
     "output_type": "stream",
     "text": [
      "* \n",
      "* * \n",
      "* * * \n",
      "* * * * \n",
      "* * * * * \n"
     ]
    }
   ],
   "source": [
    "# First pattern\n",
    "n = 5  # Number of rows\n",
    "\n",
    "for i in range(1, n+1):\n",
    "    for j in range(1, i+1):\n",
    "        print(\"*\", end=\" \")\n",
    "    print()  # Move to the next line after each row\n"
   ]
  },
  {
   "cell_type": "code",
   "execution_count": 8,
   "metadata": {},
   "outputs": [
    {
     "name": "stdout",
     "output_type": "stream",
     "text": [
      "* * * * * \n",
      "* * * * \n",
      "* * * \n",
      "* * \n",
      "* \n"
     ]
    }
   ],
   "source": [
    "# Second pattern\n",
    "n = 5  # Number of rows\n",
    "\n",
    "for i in range(n, 0, -1):\n",
    "    for j in range(1, i+1):\n",
    "        print(\"*\", end=\" \")\n",
    "    print()  # Move to the next line after each row\n"
   ]
  },
  {
   "cell_type": "code",
   "execution_count": 9,
   "metadata": {},
   "outputs": [
    {
     "name": "stdout",
     "output_type": "stream",
     "text": [
      "        * \n",
      "      * * * \n",
      "    * * * * * \n",
      "  * * * * * * * \n",
      "* * * * * * * * * \n"
     ]
    }
   ],
   "source": [
    "# Third pattern\n",
    "n = 5  # Number of rows\n",
    "\n",
    "for i in range(1, n+1):\n",
    "    # Print spaces for alignment\n",
    "    for j in range(n-i):\n",
    "        print(\" \", end=\" \")\n",
    "    # Print stars\n",
    "    for k in range(2*i-1):\n",
    "        print(\"*\", end=\" \")\n",
    "    print()  # Move to the next line after each row\n",
    "\n",
    "\n"
   ]
  },
  {
   "cell_type": "code",
   "execution_count": null,
   "metadata": {},
   "outputs": [],
   "source": [
    "# forth pattern\n",
    "n = 5  # Number of rows\n",
    "\n",
    "for i in range(1, n+1):\n",
    "    # Print spaces for alignment\n",
    "    for j in range(n-i):\n",
    "        print(\" \", end=\" \")\n",
    "    # Print stars\n",
    "    for k in range(2*i-1):\n",
    "        print(\"*\", end=\" \")\n",
    "    print()  # Move to the next line after each row\n",
    "\n",
    "\n",
    "for i in range(n-1, 0, -1)\n",
    "for j in range"
   ]
  },
  {
   "cell_type": "markdown",
   "metadata": {},
   "source": [
    "<div dir=\"rtl\" style=\"text-align: right;\">\n",
    "    12- برنامه‌ای بنویسید که خروجی‌های زیر را تولید کند: 1, 4, 8, 13, ...\n",
    "</div>"
   ]
  },
  {
   "cell_type": "code",
   "execution_count": null,
   "metadata": {},
   "outputs": [],
   "source": [
    "# Initialize variables\n",
    "start = 1\n",
    "step = 3\n",
    "\n",
    "# Loop to generate the sequence\n",
    "for i in range(10):  # Generate 10 numbers\n",
    "    print(start, end=' ')\n",
    "    start += step\n",
    "    step += 1"
   ]
  },
  {
   "cell_type": "markdown",
   "metadata": {},
   "source": [
    "<div dir=\"rtl\" style=\"text-align: right;\">\n",
    "    13- برنامه‌ای بنویسید که عددی از ورودی دریافت کند و سری فیبوناچی قبل از آن را تولید و در خروجی چاپ کند.\n",
    "</div>"
   ]
  },
  {
   "cell_type": "code",
   "execution_count": 2,
   "metadata": {},
   "outputs": [
    {
     "name": "stdout",
     "output_type": "stream",
     "text": [
      "0 1 1 2 3 5 8 13 "
     ]
    }
   ],
   "source": [
    "# Input number from user\n",
    "n = int(input(\"Enter a number: \"))\n",
    "\n",
    "# Initialize Fibonacci sequence\n",
    "a, b = 0, 1\n",
    "\n",
    "# Loop to generate the Fibonacci sequence\n",
    "while a < n:\n",
    "    print(a, end=' ')\n",
    "    a, b = b, a + b  # Update values"
   ]
  },
  {
   "cell_type": "markdown",
   "metadata": {},
   "source": [
    "<div dir=\"rtl\" style=\"text-align: right;\">\n",
    "    14- برنامه‌ای بنویسید که طول سه ضلع یک مثلث را گرفته و مشخص کند آیا این مثلث قائم الزاویه است یا خیر.\n",
    "</div>"
   ]
  },
  {
   "cell_type": "code",
   "execution_count": null,
   "metadata": {},
   "outputs": [],
   "source": [
    "# Input triangle sides from user\n",
    "a = int(input(\"Enter side a: \"))\n",
    "b = int(input(\"Enter side b: \"))\n",
    "c = int(input(\"Enter side c: \"))\n",
    "\n",
    "# Check if it is a right triangle\n",
    "if a**2 + b**2 == c**2 or a**2 + c**2 == b**2 or b**2 + c**2 == a**2:\n",
    "    print(\"The triangle is a right triangle.\")\n",
    "else:\n",
    "    print(\"The triangle is not a right triangle.\")"
   ]
  },
  {
   "cell_type": "markdown",
   "metadata": {},
   "source": [
    "<div dir=\"rtl\" style=\"text-align: right;\">\n",
    "    15- برنامه‌ای بنویسید که طول سه ضلع یک مثلث را گرفته، اگر آن مثلث قائم الزاویه است مساحت آن را محاسبه کرده و نمایش دهد.\n",
    "</div>"
   ]
  },
  {
   "cell_type": "code",
   "execution_count": null,
   "metadata": {},
   "outputs": [],
   "source": [
    "# Input triangle sides from user\n",
    "a = int(input(\"Enter side a: \"))\n",
    "b = int(input(\"Enter side b: \"))\n",
    "c = int(input(\"Enter side c: \"))\n",
    "\n",
    "# Check if it is a right triangle\n",
    "if a**2 + b**2 == c**2:\n",
    "    area = 0.5 * a * b\n",
    "    print(\"Area of the right triangle:\", area)\n",
    "elif a**2 + c**2 == b**2:\n",
    "    area = 0.5 * a * c\n",
    "    print(\"Area of the right triangle:\", area)\n",
    "elif b**2 + c**2 == a**2:\n",
    "    area = 0.5 * b * c\n",
    "    print(\"Area of the right triangle:\", area)\n",
    "else:\n",
    "    print(\"The triangle is not a right triangle.\")"
   ]
  },
  {
   "cell_type": "markdown",
   "metadata": {},
   "source": [
    "<div dir=\"rtl\" style=\"text-align: right;\">\n",
    "    16- برنامه‌ای بنویسید که یک عدد را از کاربر دریافت کند و مشخص کند عدد کامل است یا خیر.\n",
    "</div>"
   ]
  },
  {
   "cell_type": "code",
   "execution_count": null,
   "metadata": {},
   "outputs": [],
   "source": [
    "# Input number from user\n",
    "n = int(input(\"Enter a number: \"))\n",
    "\n",
    "# Calculate the sum of divisors\n",
    "sum_of_divisors = 0\n",
    "for i in range(1, n):\n",
    "    if n % i == 0:\n",
    "        sum_of_divisors += i\n",
    "\n",
    "# Check if the number is perfect\n",
    "if sum_of_divisors == n:\n",
    "    print(n, \"is a perfect number.\")\n",
    "else:\n",
    "    print(n, \"is not a perfect number.\")"
   ]
  },
  {
   "cell_type": "markdown",
   "metadata": {},
   "source": [
    "<div dir=\"rtl\" style=\"text-align: right;\">\n",
    "    17- برنامه‌ای بنویسید که یک عدد را از کاربر دریافت کند و مشخص کند عدد اول است یا خیر.\n",
    "</div>"
   ]
  },
  {
   "cell_type": "code",
   "execution_count": null,
   "metadata": {},
   "outputs": [],
   "source": [
    "# Input number from user\n",
    "n = int(input(\"Enter a number: \"))\n",
    "\n",
    "# Check if number is prime\n",
    "is_prime = True\n",
    "if n < 2:\n",
    "    is_prime = False\n",
    "else:\n",
    "    for i in range(2, n):\n",
    "        if n % i == 0:\n",
    "            is_prime = False\n",
    "            break\n",
    "\n",
    "# Output the result\n",
    "if is_prime:\n",
    "    print(n, \"is a prime number.\")\n",
    "else:\n",
    "    print(n, \"is not a prime number.\")"
   ]
  },
  {
   "cell_type": "markdown",
   "metadata": {},
   "source": [
    "<div dir=\"rtl\" style=\"text-align: right;\">\n",
    "    18- برنامه‌ای بنویسید که تعداد اعداد کامل کمتر از 100 را مشخص کند.\n",
    "</div>"
   ]
  },
  {
   "cell_type": "code",
   "execution_count": 6,
   "metadata": {},
   "outputs": [
    {
     "name": "stdout",
     "output_type": "stream",
     "text": [
      "6 is a perfect number.\n",
      "28 is a perfect number.\n"
     ]
    }
   ],
   "source": [
    "# Function to check if a number is perfect\n",
    "def is_perfect(n):\n",
    "    sum_of_divisors = 0\n",
    "    for i in range(1, n):\n",
    "        if n % i == 0:\n",
    "            sum_of_divisors += i\n",
    "    return sum_of_divisors == n\n",
    "\n",
    "# Loop to find perfect numbers below 100\n",
    "for i in range(1, 100):\n",
    "    if is_perfect(i):\n",
    "        print(i, \"is a perfect number.\")"
   ]
  },
  {
   "cell_type": "markdown",
   "metadata": {},
   "source": [
    "<div dir=\"rtl\" style=\"text-align: right;\">\n",
    "    19- برنامه‌ای بنویسید که اعداد اول مابین 100 تا 200 را پیدا کند.\n",
    "</div>"
   ]
  },
  {
   "cell_type": "code",
   "execution_count": null,
   "metadata": {},
   "outputs": [],
   "source": [
    "# Function to check if a number is prime\n",
    "def is_prime(n):\n",
    "    if n < 2:\n",
    "        return False\n",
    "    for i in range(2, n):\n",
    "        if n % i == 0:\n",
    "            return False\n",
    "    return True\n",
    "\n",
    "# Loop to find prime numbers between 100 and 200\n",
    "for i in range(100, 201):\n",
    "    if is_prime(i):\n",
    "        print(i, \"is a prime number.\")"
   ]
  },
  {
   "cell_type": "markdown",
   "metadata": {},
   "source": [
    "<div dir=\"rtl\" style=\"text-align: right;\">\n",
    "    20- برنامه‌ای بنویسید که بزرگترین مقسوم علیه مشترک و کوچکترین مضرب مشترک دو عدد را پیدا کند.\n",
    "</div>"
   ]
  },
  {
   "cell_type": "code",
   "execution_count": null,
   "metadata": {},
   "outputs": [],
   "source": [
    "# Function to find GCD (Greatest Common Divisor)\n",
    "def gcd(a, b):\n",
    "    while b:\n",
    "        a, b = b, a % b\n",
    "    return a\n",
    "\n",
    "# Function to find LCM (Least Common Multiple)\n",
    "def lcm(a, b):\n",
    "    return a * b // gcd(a, b)\n",
    "\n",
    "# Input two numbers from the user\n",
    "a = int(input(\"Enter the first number: \"))\n",
    "b = int(input(\"Enter the second number: \"))\n",
    "\n",
    "# Calculate GCD and LCM\n",
    "gcd_value = gcd(a, b)\n",
    "lcm_value = lcm(a, b)\n",
    "\n",
    "# Output the results\n",
    "print(\"GCD:\", gcd_value)\n",
    "print(\"LCM:\", lcm_value)"
   ]
  }
 ],
 "metadata": {
  "kernelspec": {
   "display_name": "Python 3",
   "language": "python",
   "name": "python3"
  },
  "language_info": {
   "codemirror_mode": {
    "name": "ipython",
    "version": 3
   },
   "file_extension": ".py",
   "mimetype": "text/x-python",
   "name": "python",
   "nbconvert_exporter": "python",
   "pygments_lexer": "ipython3",
   "version": "3.12.6"
  }
 },
 "nbformat": 4,
 "nbformat_minor": 2
}
