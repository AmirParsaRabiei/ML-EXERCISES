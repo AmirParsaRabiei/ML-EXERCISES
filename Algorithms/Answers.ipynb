{
 "cells": [
  {
   "cell_type": "markdown",
   "metadata": {},
   "source": [
    "<div dir=\"rtl\" style=\"text-align: right;\">\n",
    "    1-  برنامه ای بنویسید که ده عدد صحیح را از ورودی دریافت کرده، میانگین اعداد زوج خوانده شده  را در خروجی نمایش دهد\n",
    "</div>\n"
   ]
  },
  {
   "cell_type": "code",
   "execution_count": 6,
   "metadata": {},
   "outputs": [
    {
     "name": "stdout",
     "output_type": "stream",
     "text": [
      "Average of even numbers = 4.8\n"
     ]
    }
   ],
   "source": [
    "even_sum = 0\n",
    "even_count = 0\n",
    "\n",
    "for i in range(10):\n",
    "    num = int(input(f'enter number {i+1}: '))\n",
    "\n",
    "    if num % 2 == 0:\n",
    "        even_sum += num\n",
    "        even_count += 1\n",
    "\n",
    "if even_count > 0:\n",
    "    even_avg = even_sum / even_count\n",
    "    print(f'Average of even numbers = {even_avg}')\n",
    "else:\n",
    "    print('There are no even numbers')\n"
   ]
  },
  {
   "cell_type": "markdown",
   "metadata": {},
   "source": [
    "<div dir=\"rtl\" style=\"text-align: right;\">\n",
    "    2-   برنامه ای که با دریافت مقدار x از ورودی، مقدار  y را با توجه به تابع چندضابطه ای زیر محاسبه نماید\n",
    "</div>"
   ]
  },
  {
   "cell_type": "markdown",
   "metadata": {},
   "source": [
    "<div style=\"text-align: left;\">\n",
    "    <math xmlns=\"http://www.w3.org/1998/Math/MathML\">\n",
    "        <mfenced open=\"{\" close=\"\">\n",
    "            <mtable>\n",
    "                <mtr>\n",
    "                    <mtd>\n",
    "                        <mrow>\n",
    "                            <mn>2</mn><msup><mi>x</mi><mn>2</mn></msup>\n",
    "                            <mo>-</mo>\n",
    "                            <mn>3</mn><mi>x</mi>\n",
    "                            <mo>+</mo><mn>1</mn>\n",
    "                        </mrow>\n",
    "                    </mtd>\n",
    "                    <mtd>\n",
    "                        <mo>x&lt;0</mo>\n",
    "                    </mtd>\n",
    "                </mtr>\n",
    "                <mtr>\n",
    "                    <mtd>\n",
    "                        <mn>3</mn>\n",
    "                    </mtd>\n",
    "                    <mtd>\n",
    "                        <mo>x=0</mo>\n",
    "                    </mtd>\n",
    "                </mtr>\n",
    "                <mtr>\n",
    "                    <mtd>\n",
    "                        <mrow>\n",
    "                            <mo>(</mo>\n",
    "                            <mn>2</mn><mi>x</mi><mo>+</mo><mn>4</mn>\n",
    "                            <mo>)</mo>\n",
    "                            <mo>(</mo>\n",
    "                            <mn>2</mn><mi>x</mi><mo>-</mo><mn>5</mn><mo>)</mo>\n",
    "                        </mrow>\n",
    "                    </mtd>\n",
    "                    <mtd>\n",
    "                        <mo>x&gt;0</mo>\n",
    "                    </mtd>\n",
    "                </mtr>\n",
    "            </mtable>\n",
    "        </mfenced>\n",
    "    </math>\n",
    "</div>\n"
   ]
  },
  {
   "cell_type": "code",
   "execution_count": 7,
   "metadata": {},
   "outputs": [
    {
     "name": "stdout",
     "output_type": "stream",
     "text": [
      "for your x:-5.0, y = 66.0\n"
     ]
    }
   ],
   "source": [
    "x = float(input('enter x : '))\n",
    "\n",
    "if x < 0:\n",
    "    y = 2 * x**2 - 3 * x +1\n",
    "elif x == 0:\n",
    "    y = 3\n",
    "else:\n",
    "    y = (2 * x + 4) * (2 * x -5)\n",
    "\n",
    "print(f'for your x:{x}, y = {y}')"
   ]
  },
  {
   "cell_type": "markdown",
   "metadata": {},
   "source": [
    "<div dir=\"rtl\" style=\"text-align: right;\">\n",
    "    3-    حقوق کارمند را از ور ودی دریافت نموده و مالیات را براساس جدول زیر مشخص کنید  \n",
    "</div>"
   ]
  },
  {
   "cell_type": "markdown",
   "metadata": {},
   "source": [
    "<h2 style=\"text-align: center;\">جدول مالیات حقوق ماهیانه سال ۱۴۰۲</h2>\n",
    "\n",
    "<table style=\"width:100%; border-collapse: collapse; direction: rtl; text-align: center;\" border=\"1\">\n",
    "    <thead>\n",
    "        <tr>\n",
    "            <th style=\"background-color: yellow; color: black;\">پایه</th>\n",
    "            <th style=\"background-color: yellow; color: black;\">از</th>\n",
    "            <th style=\"background-color: yellow; color: black;\">تا</th>\n",
    "            <th style=\"background-color: yellow; color: black;\">حقوق مشمول مالیات</th>\n",
    "            <th style=\"background-color: yellow; color: black;\">نرخ</th>\n",
    "            <th style=\"background-color: yellow; color: black;\">مالیات متعلق</th>\n",
    "            <th style=\"background-color: yellow; color: black;\">مالیات تجمیعی</th>\n",
    "        </tr>\n",
    "    </thead>\n",
    "    <tbody>\n",
    "        <tr>\n",
    "            <td>اول</td>\n",
    "            <td>-</td>\n",
    "            <td>۱۰,۰۰۰,۰۰۰</td>\n",
    "            <td>-</td>\n",
    "            <td>-</td>\n",
    "            <td>-</td>\n",
    "            <td>-</td>\n",
    "        </tr>\n",
    "        <tr>\n",
    "            <td>دوم</td>\n",
    "            <td>۱۰,۰۰۰,۰۰۱</td>\n",
    "            <td>۱۴,۰۰۰,۰۰۰</td>\n",
    "            <td>۴,۰۰۰,۰۰۰</td>\n",
    "            <td>۱۰٪</td>\n",
    "            <td>۴۰۰,۰۰۰</td>\n",
    "            <td>۴۰۰,۰۰۰</td>\n",
    "        </tr>\n",
    "        <tr>\n",
    "            <td>سوم</td>\n",
    "            <td>۱۴,۰۰۰,۰۰۱</td>\n",
    "            <td>۲۳,۰۰۰,۰۰۰</td>\n",
    "            <td>۹,۰۰۰,۰۰۰</td>\n",
    "            <td>۱۵٪</td>\n",
    "            <td>۱,۳۵۰,۰۰۰</td>\n",
    "            <td>۱,۷۵۰,۰۰۰</td>\n",
    "        </tr>\n",
    "        <tr>\n",
    "            <td>چهارم</td>\n",
    "            <td>۲۳,۰۰۰,۰۰۱</td>\n",
    "            <td>۳۴,۰۰۰,۰۰۰</td>\n",
    "            <td>۱۱,۰۰۰,۰۰۰</td>\n",
    "            <td>۲۰٪</td>\n",
    "            <td>۲,۲۰۰,۰۰۰</td>\n",
    "            <td>۳,۹۵۰,۰۰۰</td>\n",
    "        </tr>\n",
    "        <tr>\n",
    "            <td>پنجم</td>\n",
    "            <td>۳۴,۰۰۰,۰۰۱</td>\n",
    "            <td>بیشتر</td>\n",
    "            <td>-</td>\n",
    "            <td>۲۵٪</td>\n",
    "            <td>x</td>\n",
    "            <td>۳,۹۵۰,۰۰۰ + x</td>\n",
    "        </tr>\n",
    "    </tbody>\n",
    "</table>\n"
   ]
  }
 ],
 "metadata": {
  "kernelspec": {
   "display_name": "Python 3",
   "language": "python",
   "name": "python3"
  },
  "language_info": {
   "codemirror_mode": {
    "name": "ipython",
    "version": 3
   },
   "file_extension": ".py",
   "mimetype": "text/x-python",
   "name": "python",
   "nbconvert_exporter": "python",
   "pygments_lexer": "ipython3",
   "version": "3.12.5"
  }
 },
 "nbformat": 4,
 "nbformat_minor": 2
}
